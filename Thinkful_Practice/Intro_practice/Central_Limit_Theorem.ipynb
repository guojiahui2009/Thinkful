{
 "cells": [
  {
   "cell_type": "markdown",
   "metadata": {},
   "source": [
    "Now that you have some code to create your own populations, sample them, and compare the samples to the populations, it's time to experiment. Using your own Jupyter notebook, or a copy of the notebook from the previous assignment, reproduce the pop1 and pop2 populations and samples, using numpy's binomial function. Specifically, create two binomially distributed populations with n equal to 10 and size equal to 10000. The p-value of pop1 should be 0.2 and the p-value of pop2 should be 0.5. Using a sample size of 100, calculate the means and standard deviations of your samples.\n",
    "\n",
    "For each of the following tasks, first write what you expect will happen, then code the changes and observe what does happen. Discuss the results with your mentor."
   ]
  },
  {
   "cell_type": "code",
   "execution_count": 2,
   "metadata": {},
   "outputs": [],
   "source": [
    "import numpy as np\n",
    "import pandas as pd\n",
    "import matplotlib.pyplot as plt"
   ]
  },
  {
   "cell_type": "code",
   "execution_count": 4,
   "metadata": {},
   "outputs": [],
   "source": [
    "def describe_two_pops(pop1, pop2):\n",
    "    print(\"{} mean: {}\".format(\"group1\", pop1.mean()))\n",
    "    print(\"{} mean: {}\".format(\"group2\", pop2.mean()))\n",
    "    print(\"{} std: {}\".format(\"group1\", pop1.std()))\n",
    "    print(\"{} std: {}\\n\".format(\"group2\", pop2.std()))\n",
    "    pass"
   ]
  },
  {
   "cell_type": "code",
   "execution_count": 5,
   "metadata": {},
   "outputs": [
    {
     "data": {
      "image/png": "[encoded data removed]",
      "text/plain": [
       "<Figure size 432x288 with 1 Axes>"
      ]
     },
     "metadata": {},
     "output_type": "display_data"
    },
    {
     "name": "stdout",
     "output_type": "stream",
     "text": [
      "population summary\n",
      "\n",
      "group1 mean: 2.0015\n",
      "group2 mean: 5.0055\n",
      "group1 std: 1.274165511226858\n",
      "group2 std: 1.586212391201128\n",
      "\n"
     ]
    }
   ],
   "source": [
    "# generate populations\n",
    "pop1 = np.random.binomial(10, 0.2, 10000)\n",
    "pop2 = np.random.binomial(10, 0.5, 10000)\n",
    "\n",
    "plt.hist(pop1, alpha=0.5, label='Population 1')\n",
    "plt.hist(pop2, alpha=0.5, label='Population 2')\n",
    "plt.legend(loc='upper right')\n",
    "plt.show()\n",
    "\n",
    "print(\"population summary\\n\")\n",
    "describe_two_pops(pop1, pop2)"
   ]
  },
  {
   "cell_type": "code",
   "execution_count": 6,
   "metadata": {},
   "outputs": [
    {
     "name": "stdout",
     "output_type": "stream",
     "text": [
      "samples summary\n",
      "\n",
      "group1 mean: 2.21\n",
      "group2 mean: 4.69\n",
      "group1 std: 1.3288717018583849\n",
      "group2 std: 1.5855283031217071\n",
      "\n"
     ]
    },
    {
     "data": {
      "image/png": "[encoded data removed]",
      "text/plain": [
       "<Figure size 432x288 with 1 Axes>"
      ]
     },
     "metadata": {},
     "output_type": "display_data"
    }
   ],
   "source": [
    "# generate samples\n",
    "samp1 = np.random.choice(pop1, 100, replace=True)\n",
    "samp2 = np.random.choice(pop2, 100, replace=True)\n",
    "\n",
    "print(\"samples summary\\n\")\n",
    "describe_two_pops(samp1, samp2)\n",
    "\n",
    "plt.hist(samp1, alpha=0.5, color=\"r\", label='Sample 1')\n",
    "plt.hist(samp2, alpha=0.5, color='b', label='Sample 2')\n",
    "plt.legend(loc='upper right')\n",
    "plt.show()"
   ]
  },
  {
   "cell_type": "code",
   "execution_count": 9,
   "metadata": {},
   "outputs": [
    {
     "name": "stdout",
     "output_type": "stream",
     "text": [
      "Ttest_indResult(statistic=11.927722892123207, pvalue=6.637594157576705e-25)\n"
     ]
    }
   ],
   "source": [
    "# expectation is for the p value to become smaller as two populations become similar \n",
    "import scipy \n",
    "from scipy.stats import ttest_ind\n",
    "\n",
    "print(ttest_ind(samp2, samp1, equal_var = False))"
   ]
  },
  {
   "cell_type": "markdown",
   "metadata": {},
   "source": [
    "Increase the size of your samples from 100 to 1000, then calculate the means and standard deviations for your new samples and create histograms for each. Repeat this again, decreasing the size of your samples to 20. What values change, and what remain the same?"
   ]
  },
  {
   "cell_type": "code",
   "execution_count": 6,
   "metadata": {},
   "outputs": [
    {
     "name": "stdout",
     "output_type": "stream",
     "text": [
      "big samples summary\n",
      "\n",
      "group1 mean: 2.016\n",
      "group2 mean: 5.104\n",
      "group1 std: 1.2544895376207807\n",
      "group2 std: 1.5865635820855086\n",
      "\n"
     ]
    },
    {
     "data": {
      "image/png": "[encoded data removed]",
      "text/plain": [
       "<Figure size 432x288 with 1 Axes>"
      ]
     },
     "metadata": {},
     "output_type": "display_data"
    }
   ],
   "source": [
    "big_samp1 = np.random.choice(pop1, 1000, replace=True)\n",
    "big_samp2 = np.random.choice(pop2, 1000, replace=True)\n",
    "\n",
    "print(\"big samples summary\\n\")\n",
    "describe_two_pops(big_samp1, big_samp2)\n",
    "\n",
    "plt.hist(big_samp1, alpha=0.5, color=\"r\", label='Big sample 1')\n",
    "plt.hist(big_samp2, alpha=0.5, color='b', label='Big sample 2')\n",
    "plt.legend(loc='upper right')\n",
    "plt.show()"
   ]
  },
  {
   "cell_type": "code",
   "execution_count": 8,
   "metadata": {},
   "outputs": [
    {
     "name": "stdout",
     "output_type": "stream",
     "text": [
      "small samples summary\n",
      "\n",
      "group1 mean: 1.9\n",
      "group2 mean: 5.0\n",
      "group1 std: 1.2206555615733703\n",
      "group2 std: 1.8708286933869707\n",
      "\n"
     ]
    },
    {
     "data": {
      "image/png": "[encoded data removed]",
      "text/plain": [
       "<Figure size 432x288 with 1 Axes>"
      ]
     },
     "metadata": {},
     "output_type": "display_data"
    }
   ],
   "source": [
    "small_samp1 = np.random.choice(pop1, 20, replace=True)\n",
    "small_samp2 = np.random.choice(pop2, 20, replace=True)\n",
    "\n",
    "print(\"small samples summary\\n\")\n",
    "describe_two_pops(small_samp1, small_samp2)\n",
    "\n",
    "plt.hist(small_samp1, alpha=0.5, color=\"r\", label='Big sample 1')\n",
    "plt.hist(small_samp2, alpha=0.5, color='b', label='Big sample 2')\n",
    "plt.legend(loc='upper right')\n",
    "plt.show()"
   ]
  },
  {
   "cell_type": "code",
   "execution_count": null,
   "metadata": {},
   "outputs": [],
   "source": []
  },
  {
   "cell_type": "markdown",
   "metadata": {},
   "source": [
    "Change the probability value (p in the NumPy documentation) for pop1 to 0.3, then take new samples and compute the t-statistic and p-value. Then change the probability value p for group 1 to 0.4, and do it again. What changes, and why?"
   ]
  },
  {
   "cell_type": "code",
   "execution_count": 11,
   "metadata": {},
   "outputs": [
    {
     "name": "stdout",
     "output_type": "stream",
     "text": [
      "samples summary\n",
      "\n",
      "group1 mean: 3.12\n",
      "group2 mean: 4.69\n",
      "group1 std: 1.5445387661046257\n",
      "group2 std: 1.5855283031217071\n",
      "\n"
     ]
    },
    {
     "data": {
      "image/png": "[encoded data removed]",
      "text/plain": [
       "<Figure size 432x288 with 1 Axes>"
      ]
     },
     "metadata": {},
     "output_type": "display_data"
    }
   ],
   "source": [
    "pop1 = np.random.binomial(10, 0.3, 10000)\n",
    "samp1 = np.random.choice(pop1, 100, replace = True)\n",
    "\n",
    "print(\"samples summary\\n\")\n",
    "describe_two_pops(samp1, samp2)\n",
    "\n",
    "plt.hist(samp1, alpha=0.5, color=\"r\", label='Sample 1')\n",
    "plt.hist(samp2, alpha=0.5, color='b', label='Sample 2')\n",
    "plt.legend(loc='upper right')\n",
    "plt.show()\n"
   ]
  },
  {
   "cell_type": "code",
   "execution_count": 14,
   "metadata": {},
   "outputs": [
    {
     "name": "stdout",
     "output_type": "stream",
     "text": [
      "Ttest_indResult(statistic=7.057345327655653, pvalue=2.797119273605367e-11)\n"
     ]
    }
   ],
   "source": [
    "# expectation is for the t stat to decrease, and p value to become larger as two populations become similar \n",
    "import scipy \n",
    "from scipy.stats import ttest_ind\n",
    "\n",
    "print(ttest_ind(samp2, samp1, equal_var = False))\n"
   ]
  },
  {
   "cell_type": "markdown",
   "metadata": {},
   "source": [
    "t stat did decrease, and p value became larger. notice the std for samp1 increased from before "
   ]
  },
  {
   "cell_type": "code",
   "execution_count": 16,
   "metadata": {},
   "outputs": [
    {
     "name": "stdout",
     "output_type": "stream",
     "text": [
      "samples summary\n",
      "\n",
      "group1 mean: 3.91\n",
      "group2 mean: 4.69\n",
      "group1 std: 1.5562454819211522\n",
      "group2 std: 1.5855283031217071\n",
      "\n"
     ]
    },
    {
     "data": {
      "image/png": "[encoded data removed]",
      "text/plain": [
       "<Figure size 432x288 with 1 Axes>"
      ]
     },
     "metadata": {},
     "output_type": "display_data"
    }
   ],
   "source": [
    "pop1 = np.random.binomial(10, 0.4, 10000)\n",
    "samp1 = np.random.choice(pop1, 100, replace = True)\n",
    "\n",
    "print(\"samples summary\\n\")\n",
    "describe_two_pops(samp1, samp2)\n",
    "\n",
    "plt.hist(samp1, alpha=0.5, color=\"r\", label='Sample 1')\n",
    "plt.hist(samp2, alpha=0.5, color='b', label='Sample 2')\n",
    "plt.legend(loc='upper right')\n",
    "plt.show()"
   ]
  },
  {
   "cell_type": "code",
   "execution_count": 17,
   "metadata": {},
   "outputs": [
    {
     "name": "stdout",
     "output_type": "stream",
     "text": [
      "Ttest_indResult(statistic=3.4932802070268734, pvalue=0.0005885379329413455)\n"
     ]
    }
   ],
   "source": [
    "print(ttest_ind(samp2, samp1, equal_var = False))"
   ]
  },
  {
   "cell_type": "markdown",
   "metadata": {},
   "source": [
    "T stat is again smaller, and the p-value has increased again"
   ]
  },
  {
   "cell_type": "markdown",
   "metadata": {},
   "source": [
    "Change the distribution of your populations from binomial to a distribution of your choice. Do the sample mean values still accurately represent the population values?\n",
    "\n"
   ]
  },
  {
   "cell_type": "code",
   "execution_count": 18,
   "metadata": {},
   "outputs": [
    {
     "data": {
      "image/png": "[encoded data removed]",
      "text/plain": [
       "<Figure size 432x288 with 1 Axes>"
      ]
     },
     "metadata": {},
     "output_type": "display_data"
    },
    {
     "name": "stdout",
     "output_type": "stream",
     "text": [
      "population summary\n",
      "\n",
      "group1 mean: 2.9699\n",
      "group2 mean: 7.982\n",
      "group1 std: 1.724643148596254\n",
      "group2 std: 2.81990709066806\n",
      "\n"
     ]
    }
   ],
   "source": [
    "# generate populations\n",
    "pop1 = np.random.poisson(3, 10000)\n",
    "pop2 = np.random.poisson(8, 10000)\n",
    "\n",
    "plt.hist(pop1, alpha=0.5, label='Population 1')\n",
    "plt.hist(pop2, alpha=0.5, label='Population 2')\n",
    "plt.legend(loc='upper right')\n",
    "plt.show()\n",
    "\n",
    "print(\"population summary\\n\")\n",
    "describe_two_pops(pop1, pop2)"
   ]
  },
  {
   "cell_type": "code",
   "execution_count": 19,
   "metadata": {},
   "outputs": [
    {
     "name": "stdout",
     "output_type": "stream",
     "text": [
      "samples summary\n",
      "\n",
      "group1 mean: 3.23\n",
      "group2 mean: 8.1\n",
      "group1 std: 1.7312134472675518\n",
      "group2 std: 2.5238858928247927\n",
      "\n"
     ]
    },
    {
     "data": {
      "image/png": "[encoded data removed]",
      "text/plain": [
       "<Figure size 432x288 with 1 Axes>"
      ]
     },
     "metadata": {},
     "output_type": "display_data"
    }
   ],
   "source": [
    "# generate samples\n",
    "samp1 = np.random.choice(pop1, 100, replace=True)\n",
    "samp2 = np.random.choice(pop2, 100, replace=True)\n",
    "\n",
    "print(\"samples summary\\n\")\n",
    "describe_two_pops(samp1, samp2)\n",
    "\n",
    "plt.hist(samp1, alpha=0.5, color=\"r\", label='Sample 1')\n",
    "plt.hist(samp2, alpha=0.5, color='b', label='Sample 2')\n",
    "plt.legend(loc='upper right')\n",
    "plt.show()"
   ]
  },
  {
   "cell_type": "code",
   "execution_count": 20,
   "metadata": {},
   "outputs": [
    {
     "name": "stdout",
     "output_type": "stream",
     "text": [
      "Ttest_indResult(statistic=15.832298893379257, pvalue=1.2523154616299392e-35)\n"
     ]
    }
   ],
   "source": [
    "print(ttest_ind(samp2, samp1, equal_var = False))"
   ]
  },
  {
   "cell_type": "markdown",
   "metadata": {},
   "source": [
    "the sample mean values still accurately represented the population mean, the central limit theorem holds regardless of the shape of the distribution"
   ]
  },
  {
   "cell_type": "code",
   "execution_count": null,
   "metadata": {},
   "outputs": [],
   "source": []
  },
  {
   "cell_type": "code",
   "execution_count": null,
   "metadata": {},
   "outputs": [],
   "source": []
  }
 ],
 "metadata": {
  "kernelspec": {
   "display_name": "Python 3",
   "language": "python",
   "name": "python3"
  },
  "language_info": {
   "codemirror_mode": {
    "name": "ipython",
    "version": 3
   },
   "file_extension": ".py",
   "mimetype": "text/x-python",
   "name": "python",
   "nbconvert_exporter": "python",
   "pygments_lexer": "ipython3",
   "version": "3.6.5"
  }
 },
 "nbformat": 4,
 "nbformat_minor": 2
}
