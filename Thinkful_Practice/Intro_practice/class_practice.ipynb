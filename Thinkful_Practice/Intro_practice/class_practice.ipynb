{
 "cells": [
  {
   "cell_type": "code",
   "execution_count": 17,
   "metadata": {},
   "outputs": [],
   "source": [
    "import random as rd\n",
    "class cat(object):\n",
    "    def __init__(self, breed, age):\n",
    "        self.breed = breed\n",
    "        self.age = age\n",
    "        \n",
    "    def mate(self,other_cat):\n",
    "        if rd.randint(0,1) == 0: return cat(self.breed,self.age); return cat(other_cat.breed,other_cat.age)\n",
    "        #what if I wanna set age to 0???\n",
    "        \n",
    "    def __repr__(self):\n",
    "        return \"{} year-old {} cat\".format(self.age, self.breed)\n",
    "    \n"
   ]
  },
  {
   "cell_type": "code",
   "execution_count": 18,
   "metadata": {},
   "outputs": [
    {
     "name": "stdout",
     "output_type": "stream",
     "text": [
      "2 year-old ragdoll cat\n"
     ]
    }
   ],
   "source": [
    "mimi = cat(\"ragdoll\", 2)\n",
    "miaomiao = cat(\"british_short\",4)\n",
    "\n",
    "print(mimi.mate(miaomiao))"
   ]
  },
  {
   "cell_type": "code",
   "execution_count": null,
   "metadata": {
    "collapsed": true
   },
   "outputs": [],
   "source": []
  },
  {
   "cell_type": "code",
   "execution_count": null,
   "metadata": {},
   "outputs": [],
   "source": []
  }
 ],
 "metadata": {
  "kernelspec": {
   "display_name": "Python 3",
   "language": "python",
   "name": "python3"
  },
  "language_info": {
   "codemirror_mode": {
    "name": "ipython",
    "version": 3
   },
   "file_extension": ".py",
   "mimetype": "text/x-python",
   "name": "python",
   "nbconvert_exporter": "python",
   "pygments_lexer": "ipython3",
   "version": "3.6.5"
  }
 },
 "nbformat": 4,
 "nbformat_minor": 2
}
