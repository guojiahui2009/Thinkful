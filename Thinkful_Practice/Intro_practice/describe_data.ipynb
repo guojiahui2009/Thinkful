{
 "cells": [
  {
   "cell_type": "markdown",
   "metadata": {},
   "source": [
    "problem 1 :\n",
    "Greg was 14, Marcia was 12, Peter was 11, Jan was 10, Bobby was 8, and Cindy was 6 when they started playing the Brady kids on The Brady Bunch. Cousin Oliver was 8 years old when he joined the show. What are the mean, median, and mode of the kids' ages when they first appeared on the show? What are the variance, standard deviation, and standard error?"
   ]
  },
  {
   "cell_type": "code",
   "execution_count": 67,
   "metadata": {},
   "outputs": [
    {
     "name": "stdout",
     "output_type": "stream",
     "text": [
      "mean is age    9.857143\n",
      "dtype: float64\n",
      "median is age    10.0\n",
      "dtype: float64\n",
      "mode is \n",
      "   age\n",
      "0    8\n",
      "variance: age    7.47619\n",
      "dtype: float64\n",
      "standard deviation: age    2.734262\n",
      "dtype: float64\n",
      "standard error: age    1.246032\n",
      "dtype: float64\n"
     ]
    }
   ],
   "source": [
    "import pandas as pd\n",
    "import numpy as np\n",
    "\n",
    "kids = pd.DataFrame(index = [\"Greg\", \"Marcia\", \"Peter\", \"Jan\", \"Bobby\", \"Cindy\", \"Oliver\"])\n",
    "kids[\"age\"] = [14, 12, 11, 10, 8, 6, 8]\n",
    "\n",
    "kids.age.mode()\n",
    "\n",
    "def summary_of_sorts(df):\n",
    "    print(\"mean is {}\".format(df.mean()))\n",
    "    print(\"median is {}\".format(df.median()))\n",
    "    print(\"mode is \\n{}\".format(df.mode()))\n",
    "\n",
    "    #why is there a zero???\n",
    "\n",
    "    print(\"variance: {}\".format(df.var()))\n",
    "    print(\"standard deviation: {}\".format(np.std(df,ddof=1)))\n",
    "\n",
    "    print(\"standard error: {}\".format(df.var()/(len(df)-1) ))\n",
    "    pass\n",
    "    \n",
    "summary_of_sorts(kids)\n"
   ]
  },
  {
   "cell_type": "markdown",
   "metadata": {},
   "source": [
    "problem 2:\n",
    "    Using these estimates, if you had to choose only one estimate of central tendency and one estimate of variance to describe the data, which would you pick and why?"
   ]
  },
  {
   "cell_type": "code",
   "execution_count": null,
   "metadata": {},
   "outputs": [],
   "source": [
    "either mean or median would be ok given there are no outliers. "
   ]
  },
  {
   "cell_type": "markdown",
   "metadata": {},
   "source": [
    "problem 3:\n",
    "Next, Cindy has a birthday. Update your estimates- what changed, and what didn't?"
   ]
  },
  {
   "cell_type": "code",
   "execution_count": 42,
   "metadata": {},
   "outputs": [
    {
     "name": "stdout",
     "output_type": "stream",
     "text": [
      "mean age is 10.0\n",
      "median age is 10.0\n",
      "mode age is 0    8\n",
      "dtype: int64\n",
      "variance of age is 6.333333333333333\n",
      "standard deviation of age is 2.516611478423583\n",
      "standard error of age is 1.0555555555555556\n"
     ]
    }
   ],
   "source": [
    "kids.loc[\"Cindy\"] = 7\n",
    "kids.loc[\"Cindy\"]\n",
    "\n",
    "summary_of_sorts(kids)\n",
    "\n",
    "#*mean increased, variance lowered, std is also lower, standard error is also lower\n",
    "#median and mode remained the same"
   ]
  },
  {
   "cell_type": "markdown",
   "metadata": {},
   "source": [
    "problem4:\n",
    "    Nobody likes Cousin Oliver. Maybe the network should have used an even younger actor. Replace Cousin Oliver with 1-year-old Jessica, then recalculate again. Does this change your choice of central tendency or variance estimation methods?"
   ]
  },
  {
   "cell_type": "code",
   "execution_count": 57,
   "metadata": {},
   "outputs": [
    {
     "data": {
      "text/html": [
       "<div>\n",
       "<style scoped>\n",
       "    .dataframe tbody tr th:only-of-type {\n",
       "        vertical-align: middle;\n",
       "    }\n",
       "\n",
       "    .dataframe tbody tr th {\n",
       "        vertical-align: top;\n",
       "    }\n",
       "\n",
       "    .dataframe thead th {\n",
       "        text-align: right;\n",
       "    }\n",
       "</style>\n",
       "<table border=\"1\" class=\"dataframe\">\n",
       "  <thead>\n",
       "    <tr style=\"text-align: right;\">\n",
       "      <th></th>\n",
       "      <th>age</th>\n",
       "    </tr>\n",
       "  </thead>\n",
       "  <tbody>\n",
       "    <tr>\n",
       "      <th>Greg</th>\n",
       "      <td>14</td>\n",
       "    </tr>\n",
       "    <tr>\n",
       "      <th>Marcia</th>\n",
       "      <td>12</td>\n",
       "    </tr>\n",
       "    <tr>\n",
       "      <th>Peter</th>\n",
       "      <td>11</td>\n",
       "    </tr>\n",
       "    <tr>\n",
       "      <th>Jan</th>\n",
       "      <td>10</td>\n",
       "    </tr>\n",
       "    <tr>\n",
       "      <th>Bobby</th>\n",
       "      <td>8</td>\n",
       "    </tr>\n",
       "    <tr>\n",
       "      <th>Cindy</th>\n",
       "      <td>6</td>\n",
       "    </tr>\n",
       "    <tr>\n",
       "      <th>Jessica</th>\n",
       "      <td>1</td>\n",
       "    </tr>\n",
       "  </tbody>\n",
       "</table>\n",
       "</div>"
      ],
      "text/plain": [
       "         age\n",
       "Greg      14\n",
       "Marcia    12\n",
       "Peter     11\n",
       "Jan       10\n",
       "Bobby      8\n",
       "Cindy      6\n",
       "Jessica    1"
      ]
     },
     "execution_count": 57,
     "metadata": {},
     "output_type": "execute_result"
    }
   ],
   "source": [
    "names = kids.index.tolist()\n",
    "oliver_index = names.index(\"Oliver\")\n",
    "names[oliver_index] = \"Jessica\"\n",
    "kids.index = names\n",
    "kids.loc[\"Jessica\"] = 1\n",
    "kids\n"
   ]
  },
  {
   "cell_type": "code",
   "execution_count": 58,
   "metadata": {},
   "outputs": [
    {
     "name": "stdout",
     "output_type": "stream",
     "text": [
      "mean age is 8.857142857142858\n",
      "median age is 10.0\n",
      "mode age is \n",
      "0     1\n",
      "1     6\n",
      "2     8\n",
      "3    10\n",
      "4    11\n",
      "5    12\n",
      "6    14\n",
      "dtype: int64\n",
      "variance of age is 18.80952380952381\n",
      "standard deviation of age is 4.3369947901195145\n",
      "standard error of age is 3.134920634920635\n"
     ]
    }
   ],
   "source": [
    "summary_of_sorts(kids)\n",
    "#jessica is now an outlier, I'd prefer the median over the mean now"
   ]
  },
  {
   "cell_type": "markdown",
   "metadata": {},
   "source": [
    "problem5:\n",
    "    On the 50th anniversary of The Brady Bunch, four different magazines asked their readers whether they were fans of the show. The answers were: TV Guide 20% fans Entertainment Weekly 23% fans Pop Culture Today 17% fans SciPhi Phanatic 5% fans\n",
    "\n",
    "Based on these numbers, what percentage of adult Americans would you estimate were Brady Bunch fans on the 50th anniversary of the show?"
   ]
  },
  {
   "cell_type": "code",
   "execution_count": 68,
   "metadata": {
    "scrolled": true
   },
   "outputs": [
    {
     "name": "stdout",
     "output_type": "stream",
     "text": [
      "mean is percent as fans    0.1625\n",
      "dtype: float64\n",
      "median is percent as fans    0.185\n",
      "dtype: float64\n",
      "mode is \n",
      "   percent as fans\n",
      "0             0.05\n",
      "1             0.17\n",
      "2             0.20\n",
      "3             0.23\n",
      "variance: percent as fans    0.006225\n",
      "dtype: float64\n",
      "standard deviation: percent as fans    0.078899\n",
      "dtype: float64\n",
      "standard error: percent as fans    0.002075\n",
      "dtype: float64\n"
     ]
    }
   ],
   "source": [
    "fans = pd.DataFrame(index = [\"TV Guide\", \"Entertainment Weekly\", \"Pop Culture\", \"SciPhi Phanatic\"])\n",
    "fans[\"percent as fans\"] = [.2, .23, .17, .05]\n",
    "fans\n",
    "summary_of_sorts(fans)"
   ]
  },
  {
   "cell_type": "markdown",
   "metadata": {},
   "source": [
    "if fans of four entertainment magazines can be used as a reliable estimate for the u.s population, a reasonal guesstimate would be 18.5% of the population are fans of the show"
   ]
  }
 ],
 "metadata": {
  "kernelspec": {
   "display_name": "Python 3",
   "language": "python",
   "name": "python3"
  },
  "language_info": {
   "codemirror_mode": {
    "name": "ipython",
    "version": 3
   },
   "file_extension": ".py",
   "mimetype": "text/x-python",
   "name": "python",
   "nbconvert_exporter": "python",
   "pygments_lexer": "ipython3",
   "version": "3.6.5"
  }
 },
 "nbformat": 4,
 "nbformat_minor": 2
}
