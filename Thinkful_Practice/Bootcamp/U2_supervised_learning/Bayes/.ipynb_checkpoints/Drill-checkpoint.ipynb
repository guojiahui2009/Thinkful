{
 "cells": [
  {
   "cell_type": "markdown",
   "metadata": {},
   "source": [
    "For each of the following situations, decide if you would model using a regression or classification model. Discuss your reasoning with your mentor next time you meet."
   ]
  },
  {
   "cell_type": "markdown",
   "metadata": {},
   "source": [
    "The amount a person will spend on a given site in the next 24 months.\n",
    "    regression -- could spend anywhere from 0 to a lot depending on what they decide to purchase, too many combinations, does not make too much sense to make classifiers\n"
   ]
  },
  {
   "cell_type": "markdown",
   "metadata": {},
   "source": [
    "What color car someone is going to buy.\n",
    "    classification -- general color offerings are limited, can have an other category for unique colors\n"
   ]
  },
  {
   "cell_type": "markdown",
   "metadata": {},
   "source": [
    "How many children a family will have.\n",
    "    regression -- anywhere from 0 to humanly possible... define family...\n",
    "    classificaiton -- reasonable range 1 - 5, 5+"
   ]
  },
  {
   "cell_type": "markdown",
   "metadata": {},
   "source": [
    "If someone will sign up for a service.\n",
    "    classification -- probability of (yes), (no)"
   ]
  },
  {
   "cell_type": "markdown",
   "metadata": {},
   "source": [
    "The number of times someone will get sick in a year.\n",
    "   regression -- anywhere from 0 to humanly possible... define family...\n",
    "   classificaiton -- reasonable range 1 - 5, 5+"
   ]
  },
  {
   "cell_type": "markdown",
   "metadata": {},
   "source": [
    "The probability someone will get sick in the next month.\n",
    "    classification -- probability of (sick), (not sick)\n"
   ]
  },
  {
   "cell_type": "markdown",
   "metadata": {},
   "source": [
    "Which medicine will work best for a given patient.\n",
    "    classification -- probability of healing given each choice\n"
   ]
  }
 ],
 "metadata": {
  "kernelspec": {
   "display_name": "Python 3",
   "language": "python",
   "name": "python3"
  },
  "language_info": {
   "codemirror_mode": {
    "name": "ipython",
    "version": 3
   },
   "file_extension": ".py",
   "mimetype": "text/x-python",
   "name": "python",
   "nbconvert_exporter": "python",
   "pygments_lexer": "ipython3",
   "version": "3.6.5"
  }
 },
 "nbformat": 4,
 "nbformat_minor": 2
}
