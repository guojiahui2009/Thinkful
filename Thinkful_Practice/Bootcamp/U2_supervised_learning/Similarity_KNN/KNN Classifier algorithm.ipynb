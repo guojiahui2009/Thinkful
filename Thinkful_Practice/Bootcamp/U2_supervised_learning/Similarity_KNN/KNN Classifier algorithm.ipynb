{
 "cells": [
  {
   "cell_type": "code",
   "execution_count": 1,
   "metadata": {},
   "outputs": [],
   "source": [
    "import numpy as np\n",
    "import pandas as pd"
   ]
  },
  {
   "cell_type": "code",
   "execution_count": 2,
   "metadata": {},
   "outputs": [],
   "source": [
    "#test data\n",
    "music = pd.DataFrame()\n",
    "\n",
    "# Some data to play with.\n",
    "music['duration'] = [184, 134, 243, 186, 122, 197, 294, 382, 102, 264, \n",
    "                     205, 110, 307, 110, 397, 153, 190, 192, 210, 403,\n",
    "                     164, 198, 204, 253, 234, 190, 182, 401, 376, 102]\n",
    "music['loudness'] = [18, 34, 43, 36, 22, 9, 29, 22, 10, 24, \n",
    "                     20, 10, 17, 51, 7, 13, 19, 12, 21, 22,\n",
    "                     16, 18, 4, 23, 34, 19, 14, 11, 37, 42]\n",
    "\n",
    "# We know whether the songs in our training data are jazz or not.\n",
    "music['jazz'] = [ 1, 0, 0, 0, 1, 1, 0, 1, 1, 0,\n",
    "                  0, 1, 1, 0, 1, 1, 0, 1, 1, 1,\n",
    "                  1, 1, 1, 1, 0, 0, 1, 1, 0, 0]\n"
   ]
  },
  {
   "cell_type": "code",
   "execution_count": 9,
   "metadata": {},
   "outputs": [],
   "source": [
    "class KNN:\n",
    "    X = []\n",
    "    Y = []\n",
    "    A = []\n",
    "    k = 1          #default to nearest neighbor\n",
    "    \n",
    "    def __init__(self, x_list, y_list, a_list):\n",
    "        self.X = x_list\n",
    "        self.Y = y_list\n",
    "        self.A = a_list\n",
    "        \n",
    "    def set_k(self,k):\n",
    "        self.k = k\n",
    "        \n",
    "    def predict(self,x, y):\n",
    "        distance = []\n",
    "        for i in range(len(self.X)):\n",
    "            d = (((self.X[i]-x)**2) + ((self.Y[i]-y)**2))**.5\n",
    "            distance.append([d, i])                          #calculate distance and record index\n",
    "        distance = np.array(distance)\n",
    "        distance = distance[np.argsort(distance[:,0])]       #sort by distance\n",
    "        sum = 0\n",
    "        for i in range(self.k):                              #range is exclusive\n",
    "            sum += self.A[distance[i][1]]\n",
    "            print(self.A[distance[i][1]])\n",
    "        return sum >= self.k/2"
   ]
  },
  {
   "cell_type": "code",
   "execution_count": 15,
   "metadata": {},
   "outputs": [
    {
     "data": {
      "text/plain": [
       "1"
      ]
     },
     "execution_count": 15,
     "metadata": {},
     "output_type": "execute_result"
    }
   ],
   "source": [
    "from collections import Counter\n",
    "\n",
    "l = [0,0,1,1,1]\n",
    "Counter(l).most_common()[0][0]"
   ]
  },
  {
   "cell_type": "code",
   "execution_count": 16,
   "metadata": {},
   "outputs": [
    {
     "name": "stdout",
     "output_type": "stream",
     "text": [
      "0\n",
      "False\n"
     ]
    }
   ],
   "source": [
    "test = KNN(music[\"duration\"], music[\"loudness\"], music[\"jazz\"])\n",
    "\n",
    "test.set_k(1)\n",
    "print(test.predict(190,24))"
   ]
  },
  {
   "cell_type": "markdown",
   "metadata": {},
   "source": [
    "There are different ways of tackling this problem, each promoting efficiency for a different scenario. \n",
    "\n",
    "Case 1: (when distance between max and min is reasonable)\n",
    "\n",
    "\n",
    "Case 2: (when values are very far apart)\n",
    "\n",
    "\n",
    "Case 3: (lots of repetition)"
   ]
  },
  {
   "cell_type": "code",
   "execution_count": 4,
   "metadata": {},
   "outputs": [
    {
     "name": "stdout",
     "output_type": "stream",
     "text": [
      "4\n"
     ]
    }
   ],
   "source": [
    "l=[1,3,5,6,9,0,4] \n",
    "\n",
    "\n",
    "def my_function(l):\n",
    "    min_v = min(l)\n",
    "    max_v = max(l)\n",
    "    hash_list = [False] * (max_v - min_v + 1)\n",
    "    for item in l:\n",
    "        hash_list[item-min_v] = True\n",
    "    \n",
    "    #traverse list return answer\n",
    "    long = 0\n",
    "    count = 0\n",
    "    prev_true = False\n",
    "    for v in hash_list:\n",
    "        if v:\n",
    "            count += 1\n",
    "            prev_true = True\n",
    "            if count > long: \n",
    "                long = count\n",
    "        else:\n",
    "            count = 0\n",
    "            prev_true = False\n",
    "    return long\n",
    "            \n",
    "print(my_function(l))"
   ]
  },
  {
   "cell_type": "code",
   "execution_count": null,
   "metadata": {},
   "outputs": [],
   "source": []
  }
 ],
 "metadata": {
  "kernelspec": {
   "display_name": "Python 3",
   "language": "python",
   "name": "python3"
  },
  "language_info": {
   "codemirror_mode": {
    "name": "ipython",
    "version": 3
   },
   "file_extension": ".py",
   "mimetype": "text/x-python",
   "name": "python",
   "nbconvert_exporter": "python",
   "pygments_lexer": "ipython3",
   "version": "3.6.5"
  }
 },
 "nbformat": 4,
 "nbformat_minor": 2
}
