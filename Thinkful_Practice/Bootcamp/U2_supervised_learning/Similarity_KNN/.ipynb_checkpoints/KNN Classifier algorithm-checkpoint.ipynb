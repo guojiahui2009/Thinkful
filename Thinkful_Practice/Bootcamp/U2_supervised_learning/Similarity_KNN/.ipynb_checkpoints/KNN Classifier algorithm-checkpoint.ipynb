{
 "cells": [
  {
   "cell_type": "code",
   "execution_count": 2,
   "metadata": {},
   "outputs": [],
   "source": [
    "import numpy as np\n",
    "import pandas as pd"
   ]
  },
  {
   "cell_type": "code",
   "execution_count": 3,
   "metadata": {},
   "outputs": [],
   "source": [
    "#test data\n",
    "music = pd.DataFrame()\n",
    "\n",
    "# Some data to play with.\n",
    "music['duration'] = [184, 134, 243, 186, 122, 197, 294, 382, 102, 264, \n",
    "                     205, 110, 307, 110, 397, 153, 190, 192, 210, 403,\n",
    "                     164, 198, 204, 253, 234, 190, 182, 401, 376, 102]\n",
    "music['loudness'] = [18, 34, 43, 36, 22, 9, 29, 22, 10, 24, \n",
    "                     20, 10, 17, 51, 7, 13, 19, 12, 21, 22,\n",
    "                     16, 18, 4, 23, 34, 19, 14, 11, 37, 42]\n",
    "\n",
    "# We know whether the songs in our training data are jazz or not.\n",
    "music['jazz'] = [ 1, 0, 0, 0, 1, 1, 0, 1, 1, 0,\n",
    "                  0, 1, 1, 0, 1, 1, 0, 1, 1, 1,\n",
    "                  1, 1, 1, 1, 0, 0, 1, 1, 0, 0]\n"
   ]
  },
  {
   "cell_type": "code",
   "execution_count": 43,
   "metadata": {},
   "outputs": [],
   "source": [
    "class KNN:\n",
    "    X = []\n",
    "    Y = []\n",
    "    A = []\n",
    "    k = 1          #default to nearest neighbor\n",
    "    \n",
    "    def __init__(self, x_list, y_list, a_list):\n",
    "        self.X = x_list\n",
    "        self.Y = y_list\n",
    "        self.A = a_list\n",
    "        \n",
    "    def set_k(self,k):\n",
    "        self.k = k\n",
    "        \n",
    "    def predict(self,x, y):\n",
    "        distance = []\n",
    "        for i in range(len(self.X)):\n",
    "            d = (((self.X[i]-x)**2) + ((self.Y[i]-y)**2))**.5\n",
    "            distance.append([d, i])                          #calculate distance and record index\n",
    "        distance = np.array(distance)\n",
    "        distance = distance[np.argsort(distance[:,0])]       #sort by distance\n",
    "        sum = 0\n",
    "        for i in range(self.k - 1):\n",
    "            sum += self.A[distance[i][1]]\n",
    "        return sum >= self.k/2"
   ]
  },
  {
   "cell_type": "code",
   "execution_count": 44,
   "metadata": {},
   "outputs": [
    {
     "name": "stdout",
     "output_type": "stream",
     "text": [
      "False\n"
     ]
    }
   ],
   "source": [
    "test = KNN(music[\"duration\"], music[\"loudness\"], music[\"jazz\"])\n",
    "\n",
    "test.set_k(5)\n",
    "print(test.predict(190,24))"
   ]
  },
  {
   "cell_type": "code",
   "execution_count": null,
   "metadata": {},
   "outputs": [],
   "source": []
  }
 ],
 "metadata": {
  "kernelspec": {
   "display_name": "Python 3",
   "language": "python",
   "name": "python3"
  },
  "language_info": {
   "codemirror_mode": {
    "name": "ipython",
    "version": 3
   },
   "file_extension": ".py",
   "mimetype": "text/x-python",
   "name": "python",
   "nbconvert_exporter": "python",
   "pygments_lexer": "ipython3",
   "version": "3.6.5"
  }
 },
 "nbformat": 4,
 "nbformat_minor": 2
}
