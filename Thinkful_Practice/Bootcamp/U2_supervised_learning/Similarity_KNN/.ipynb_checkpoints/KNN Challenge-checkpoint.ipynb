{
 "cells": [
  {
   "cell_type": "markdown",
   "metadata": {},
   "source": [
    "comparing knn regression and ols regression on \n",
    "\n",
    "data source:https://www.kaggle.com/blitzr/gfp2017/version/1\n",
    "    "
   ]
  },
  {
   "cell_type": "code",
   "execution_count": 1,
   "metadata": {},
   "outputs": [],
   "source": [
    "import numpy as np\n",
    "import pandas as pd\n",
    "import scipy\n",
    "import matplotlib.pyplot as plt\n",
    "%matplotlib inline"
   ]
  },
  {
   "cell_type": "code",
   "execution_count": 13,
   "metadata": {},
   "outputs": [
    {
     "data": {
      "text/html": [
       "<div>\n",
       "<style scoped>\n",
       "    .dataframe tbody tr th:only-of-type {\n",
       "        vertical-align: middle;\n",
       "    }\n",
       "\n",
       "    .dataframe tbody tr th {\n",
       "        vertical-align: top;\n",
       "    }\n",
       "\n",
       "    .dataframe thead th {\n",
       "        text-align: right;\n",
       "    }\n",
       "</style>\n",
       "<table border=\"1\" class=\"dataframe\">\n",
       "  <thead>\n",
       "    <tr style=\"text-align: right;\">\n",
       "      <th></th>\n",
       "      <th>Country</th>\n",
       "      <th>ISO3</th>\n",
       "      <th>Rank</th>\n",
       "      <th>Total Population</th>\n",
       "      <th>Manpower Available</th>\n",
       "      <th>Fit-for-Service</th>\n",
       "      <th>Reaching Military Age</th>\n",
       "      <th>Total Military Personnel</th>\n",
       "      <th>Active Personnel</th>\n",
       "      <th>Reserve Personnel</th>\n",
       "      <th>...</th>\n",
       "      <th>Railway Coverage (km)</th>\n",
       "      <th>Serivecable Airports</th>\n",
       "      <th>Defense Budget</th>\n",
       "      <th>External Debt</th>\n",
       "      <th>Foreign Exchange / Gold</th>\n",
       "      <th>Purchasing Power Parity</th>\n",
       "      <th>Square Land Area (km)</th>\n",
       "      <th>Coastline (km)</th>\n",
       "      <th>Shared Borders (km)</th>\n",
       "      <th>Waterways (km)</th>\n",
       "    </tr>\n",
       "  </thead>\n",
       "  <tbody>\n",
       "    <tr>\n",
       "      <th>0</th>\n",
       "      <td>United States</td>\n",
       "      <td>USA</td>\n",
       "      <td>1</td>\n",
       "      <td>323995528</td>\n",
       "      <td>145215000</td>\n",
       "      <td>120025000</td>\n",
       "      <td>4220000</td>\n",
       "      <td>2363675</td>\n",
       "      <td>1373650</td>\n",
       "      <td>990025</td>\n",
       "      <td>...</td>\n",
       "      <td>224792</td>\n",
       "      <td>13513</td>\n",
       "      <td>587800</td>\n",
       "      <td>17910000</td>\n",
       "      <td>117600</td>\n",
       "      <td>18560000</td>\n",
       "      <td>9826675</td>\n",
       "      <td>19924</td>\n",
       "      <td>12048</td>\n",
       "      <td>41009</td>\n",
       "    </tr>\n",
       "    <tr>\n",
       "      <th>1</th>\n",
       "      <td>Russia</td>\n",
       "      <td>RUS</td>\n",
       "      <td>2</td>\n",
       "      <td>142355415</td>\n",
       "      <td>70000000</td>\n",
       "      <td>47000000</td>\n",
       "      <td>1355000</td>\n",
       "      <td>3371027</td>\n",
       "      <td>798527</td>\n",
       "      <td>2572500</td>\n",
       "      <td>...</td>\n",
       "      <td>87157</td>\n",
       "      <td>1218</td>\n",
       "      <td>44600</td>\n",
       "      <td>514800</td>\n",
       "      <td>365500</td>\n",
       "      <td>3745000</td>\n",
       "      <td>17098242</td>\n",
       "      <td>37653</td>\n",
       "      <td>22408</td>\n",
       "      <td>102000</td>\n",
       "    </tr>\n",
       "    <tr>\n",
       "      <th>2</th>\n",
       "      <td>China</td>\n",
       "      <td>CHN</td>\n",
       "      <td>3</td>\n",
       "      <td>1373541278</td>\n",
       "      <td>750000000</td>\n",
       "      <td>619000000</td>\n",
       "      <td>19550000</td>\n",
       "      <td>3712500</td>\n",
       "      <td>2260000</td>\n",
       "      <td>1452500</td>\n",
       "      <td>...</td>\n",
       "      <td>86000</td>\n",
       "      <td>507</td>\n",
       "      <td>161700</td>\n",
       "      <td>983500</td>\n",
       "      <td>3092000</td>\n",
       "      <td>21270000</td>\n",
       "      <td>9596961</td>\n",
       "      <td>14500</td>\n",
       "      <td>22457</td>\n",
       "      <td>110000</td>\n",
       "    </tr>\n",
       "    <tr>\n",
       "      <th>3</th>\n",
       "      <td>India</td>\n",
       "      <td>IND</td>\n",
       "      <td>4</td>\n",
       "      <td>1266883598</td>\n",
       "      <td>616000000</td>\n",
       "      <td>489600000</td>\n",
       "      <td>22900000</td>\n",
       "      <td>4207250</td>\n",
       "      <td>1362500</td>\n",
       "      <td>2844750</td>\n",
       "      <td>...</td>\n",
       "      <td>63974</td>\n",
       "      <td>346</td>\n",
       "      <td>51000</td>\n",
       "      <td>507000</td>\n",
       "      <td>359100</td>\n",
       "      <td>8721000</td>\n",
       "      <td>3287263</td>\n",
       "      <td>7000</td>\n",
       "      <td>13888</td>\n",
       "      <td>14500</td>\n",
       "    </tr>\n",
       "    <tr>\n",
       "      <th>4</th>\n",
       "      <td>France</td>\n",
       "      <td>FRA</td>\n",
       "      <td>5</td>\n",
       "      <td>66836154</td>\n",
       "      <td>30000000</td>\n",
       "      <td>23750000</td>\n",
       "      <td>775000</td>\n",
       "      <td>387635</td>\n",
       "      <td>204000</td>\n",
       "      <td>183635</td>\n",
       "      <td>...</td>\n",
       "      <td>29640</td>\n",
       "      <td>464</td>\n",
       "      <td>35000</td>\n",
       "      <td>5360000</td>\n",
       "      <td>138200</td>\n",
       "      <td>2737000</td>\n",
       "      <td>643801</td>\n",
       "      <td>4853</td>\n",
       "      <td>4072</td>\n",
       "      <td>8501</td>\n",
       "    </tr>\n",
       "  </tbody>\n",
       "</table>\n",
       "<p>5 rows × 47 columns</p>\n",
       "</div>"
      ],
      "text/plain": [
       "         Country ISO3  Rank  Total Population  Manpower Available  \\\n",
       "0  United States  USA     1         323995528           145215000   \n",
       "1         Russia  RUS     2         142355415            70000000   \n",
       "2          China  CHN     3        1373541278           750000000   \n",
       "3          India  IND     4        1266883598           616000000   \n",
       "4         France  FRA     5          66836154            30000000   \n",
       "\n",
       "   Fit-for-Service  Reaching Military Age  Total Military Personnel  \\\n",
       "0        120025000                4220000                   2363675   \n",
       "1         47000000                1355000                   3371027   \n",
       "2        619000000               19550000                   3712500   \n",
       "3        489600000               22900000                   4207250   \n",
       "4         23750000                 775000                    387635   \n",
       "\n",
       "   Active Personnel  Reserve Personnel       ...        Railway Coverage (km)  \\\n",
       "0           1373650             990025       ...                       224792   \n",
       "1            798527            2572500       ...                        87157   \n",
       "2           2260000            1452500       ...                        86000   \n",
       "3           1362500            2844750       ...                        63974   \n",
       "4            204000             183635       ...                        29640   \n",
       "\n",
       "   Serivecable Airports  Defense Budget  External Debt  \\\n",
       "0                 13513          587800       17910000   \n",
       "1                  1218           44600         514800   \n",
       "2                   507          161700         983500   \n",
       "3                   346           51000         507000   \n",
       "4                   464           35000        5360000   \n",
       "\n",
       "   Foreign Exchange / Gold  Purchasing Power Parity  Square Land Area (km)  \\\n",
       "0                   117600                 18560000                9826675   \n",
       "1                   365500                  3745000               17098242   \n",
       "2                  3092000                 21270000                9596961   \n",
       "3                   359100                  8721000                3287263   \n",
       "4                   138200                  2737000                 643801   \n",
       "\n",
       "   Coastline (km)  Shared Borders (km)  Waterways (km)  \n",
       "0           19924                12048           41009  \n",
       "1           37653                22408          102000  \n",
       "2           14500                22457          110000  \n",
       "3            7000                13888           14500  \n",
       "4            4853                 4072            8501  \n",
       "\n",
       "[5 rows x 47 columns]"
      ]
     },
     "execution_count": 13,
     "metadata": {},
     "output_type": "execute_result"
    }
   ],
   "source": [
    "path = \"/Users/jiahuiguo/Documents/GitHub/Thinkful/Thinkful_Practice/Bootcamp/Data/gfp2017/GlobalFirePower.csv\"\n",
    "\n",
    "df = pd.DataFrame(pd.read_csv(path))\n",
    "df.head()"
   ]
  },
  {
   "cell_type": "code",
   "execution_count": 54,
   "metadata": {},
   "outputs": [
    {
     "data": {
      "text/html": [
       "<div>\n",
       "<style scoped>\n",
       "    .dataframe tbody tr th:only-of-type {\n",
       "        vertical-align: middle;\n",
       "    }\n",
       "\n",
       "    .dataframe tbody tr th {\n",
       "        vertical-align: top;\n",
       "    }\n",
       "\n",
       "    .dataframe thead th {\n",
       "        text-align: right;\n",
       "    }\n",
       "</style>\n",
       "<table border=\"1\" class=\"dataframe\">\n",
       "  <thead>\n",
       "    <tr style=\"text-align: right;\">\n",
       "      <th></th>\n",
       "      <th>Defense Budget</th>\n",
       "      <th>Total Population</th>\n",
       "      <th>Shared Borders (km)</th>\n",
       "      <th>Total Naval Assets</th>\n",
       "      <th>Total Aircraft Strength</th>\n",
       "      <th>Square Land Area (km)</th>\n",
       "    </tr>\n",
       "  </thead>\n",
       "  <tbody>\n",
       "    <tr>\n",
       "      <th>0</th>\n",
       "      <td>587800</td>\n",
       "      <td>323995528</td>\n",
       "      <td>12048</td>\n",
       "      <td>415</td>\n",
       "      <td>13762</td>\n",
       "      <td>9826675</td>\n",
       "    </tr>\n",
       "    <tr>\n",
       "      <th>1</th>\n",
       "      <td>44600</td>\n",
       "      <td>142355415</td>\n",
       "      <td>22408</td>\n",
       "      <td>352</td>\n",
       "      <td>3794</td>\n",
       "      <td>17098242</td>\n",
       "    </tr>\n",
       "    <tr>\n",
       "      <th>2</th>\n",
       "      <td>161700</td>\n",
       "      <td>1373541278</td>\n",
       "      <td>22457</td>\n",
       "      <td>714</td>\n",
       "      <td>2955</td>\n",
       "      <td>9596961</td>\n",
       "    </tr>\n",
       "    <tr>\n",
       "      <th>3</th>\n",
       "      <td>51000</td>\n",
       "      <td>1266883598</td>\n",
       "      <td>13888</td>\n",
       "      <td>295</td>\n",
       "      <td>2102</td>\n",
       "      <td>3287263</td>\n",
       "    </tr>\n",
       "    <tr>\n",
       "      <th>4</th>\n",
       "      <td>35000</td>\n",
       "      <td>66836154</td>\n",
       "      <td>4072</td>\n",
       "      <td>118</td>\n",
       "      <td>1305</td>\n",
       "      <td>643801</td>\n",
       "    </tr>\n",
       "  </tbody>\n",
       "</table>\n",
       "</div>"
      ],
      "text/plain": [
       "   Defense Budget  Total Population  Shared Borders (km)  Total Naval Assets  \\\n",
       "0          587800         323995528                12048                 415   \n",
       "1           44600         142355415                22408                 352   \n",
       "2          161700        1373541278                22457                 714   \n",
       "3           51000        1266883598                13888                 295   \n",
       "4           35000          66836154                 4072                 118   \n",
       "\n",
       "   Total Aircraft Strength  Square Land Area (km)  \n",
       "0                    13762                9826675  \n",
       "1                     3794               17098242  \n",
       "2                     2955                9596961  \n",
       "3                     2102                3287263  \n",
       "4                     1305                 643801  "
      ]
     },
     "execution_count": 54,
     "metadata": {},
     "output_type": "execute_result"
    }
   ],
   "source": [
    "# choosing features and attributes \n",
    "list_to_use = [\"Defense Budget\",\"Total Population\", \"Shared Borders (km)\", \"Total Naval Assets\", \"Total Aircraft Strength\", \"Square Land Area (km)\"]\n",
    "df_use = df[list_to_use]\n",
    "# target Budget\n",
    "df_use.head()\n",
    "# Features \"Total Population\", \"Shared Borders(km)\", \"Total Naval Assets\", \"Total Aircraft Strength\", \"Square Land Area (km)\", \"Coastline (km)\""
   ]
  },
  {
   "cell_type": "code",
   "execution_count": 55,
   "metadata": {},
   "outputs": [
    {
     "data": {
      "text/plain": [
       "count       133.000000\n",
       "mean      11553.827068\n",
       "std       53323.041329\n",
       "min          10.000000\n",
       "25%         220.000000\n",
       "50%        1870.000000\n",
       "75%        6215.000000\n",
       "max      587800.000000\n",
       "Name: Defense Budget, dtype: float64"
      ]
     },
     "execution_count": 55,
     "metadata": {},
     "output_type": "execute_result"
    }
   ],
   "source": [
    "df_use[\"Defense Budget\"].describe()"
   ]
  },
  {
   "cell_type": "code",
   "execution_count": 56,
   "metadata": {},
   "outputs": [],
   "source": [
    "df_use = df_use.sort_values( \"Total Population\", ascending = False)\n",
    "#drop top three populations\n",
    "df_use = df_use.drop(df_use.index[0:3])"
   ]
  },
  {
   "cell_type": "code",
   "execution_count": 59,
   "metadata": {},
   "outputs": [
    {
     "data": {
      "image/png": "[encoded data removed]",
      "text/plain": [
       "<Figure size 432x288 with 1 Axes>"
      ]
     },
     "metadata": {},
     "output_type": "display_data"
    }
   ],
   "source": [
    "from sklearn import neighbors\n",
    "\n",
    "#build model\n",
    "knn = neighbors.KNeighborsRegressor(n_neighbors = 10)\n",
    "Y = pd.DataFrame(df_use[\"Defense Budget\"])\n",
    "X = pd.DataFrame(df_use[\"Total Population\"])\n",
    "knn.fit(X, Y)\n",
    "\n",
    "#set up prediction line\n",
    "T = np.arange(10,600000,1000)[:, np.newaxis]\n",
    "\n",
    "Y_ = knn.predict(T)\n",
    "\n",
    "plt.scatter(X, Y, c='k', label='data')\n",
    "plt.plot(T, Y_, c='g', label='prediction')\n",
    "plt.legend()\n",
    "plt.title('K=10, Unweighted')\n",
    "plt.show()"
   ]
  },
  {
   "cell_type": "code",
   "execution_count": 60,
   "metadata": {},
   "outputs": [
    {
     "name": "stdout",
     "output_type": "stream",
     "text": [
      "Unweighted Accuracy: -0.69 (+/- 1.23)\n"
     ]
    }
   ],
   "source": [
    "from sklearn.model_selection import cross_val_score\n",
    "score = cross_val_score(knn, X, Y, cv=5)\n",
    "print(\"Unweighted Accuracy: %0.2f (+/- %0.2f)\" % (score.mean(), score.std() * 2))\n"
   ]
  },
  {
   "cell_type": "code",
   "execution_count": 62,
   "metadata": {},
   "outputs": [
    {
     "name": "stdout",
     "output_type": "stream",
     "text": [
      "\n",
      "Coefficients: \n",
      " [[8.46823773e-05]]\n",
      "\n",
      "Intercept: \n",
      " [2949.99728651]\n",
      "\n",
      "R-squared:\n",
      "0.12782437349038123\n"
     ]
    }
   ],
   "source": [
    "# ols model \n",
    "from sklearn import linear_model\n",
    "\n",
    "lregr = linear_model.LinearRegression()\n",
    "lregr.fit(X,Y)\n",
    "\n",
    "# Inspect the results.\n",
    "print('\\nCoefficients: \\n', lregr.coef_)\n",
    "print('\\nIntercept: \\n', lregr.intercept_)\n",
    "print('\\nR-squared:')\n",
    "print(lregr.score(X, Y))"
   ]
  },
  {
   "cell_type": "code",
   "execution_count": 63,
   "metadata": {},
   "outputs": [
    {
     "name": "stdout",
     "output_type": "stream",
     "text": [
      "Linear Model Accuracy: -0.75 (+/- 1.23)\n"
     ]
    }
   ],
   "source": [
    "score1 = cross_val_score(lregr, X, Y, cv=5)\n",
    "print(\"Linear Model Accuracy: %0.2f (+/- %0.2f)\" % (score1.mean(), score.std() * 2))"
   ]
  },
  {
   "cell_type": "markdown",
   "metadata": {},
   "source": [
    "The linear model and the knn model are both pretty horendous for this task. It is most likely due to the simplicity of the model, using only population size to predict defense spending. Maybe incorporating features such a per capita gdp, border size, recent conflicts, current military size would help to increase the accuracy of our models. "
   ]
  },
  {
   "cell_type": "code",
   "execution_count": null,
   "metadata": {},
   "outputs": [],
   "source": []
  },
  {
   "cell_type": "code",
   "execution_count": null,
   "metadata": {},
   "outputs": [],
   "source": []
  }
 ],
 "metadata": {
  "kernelspec": {
   "display_name": "Python 3",
   "language": "python",
   "name": "python3"
  },
  "language_info": {
   "codemirror_mode": {
    "name": "ipython",
    "version": 3
   },
   "file_extension": ".py",
   "mimetype": "text/x-python",
   "name": "python",
   "nbconvert_exporter": "python",
   "pygments_lexer": "ipython3",
   "version": "3.6.5"
  }
 },
 "nbformat": 4,
 "nbformat_minor": 2
}
