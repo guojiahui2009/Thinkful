{
 "cells": [
  {
   "cell_type": "markdown",
   "metadata": {},
   "source": [
    "Categorize each of the following research questions as \"good\" or \"bad\", and provide alternative formulations for the bad ones. Save your responses in a document of some kind, submit a link below, and discuss your reasoning with your mentor."
   ]
  },
  {
   "cell_type": "markdown",
   "metadata": {},
   "source": [
    "    What is the 1994 rate of juvenile delinquency in the U.S.?\n",
    "        ok... factual investigation..."
   ]
  },
  {
   "cell_type": "markdown",
   "metadata": {},
   "source": [
    "    What can we do to reduce juvenile delinquency in the U.S.?\n",
    "        bad, propose some ideas to test. \n",
    "            does class size affect juvenile deliquency rates?\n",
    "            does interest rate affect juvenile deliquency?\n",
    "            does murder rates(drug addiction rate...) affect junenile ..."
   ]
  },
  {
   "cell_type": "markdown",
   "metadata": {},
   "source": [
    "    Does education play a role in reducing juvenile delinquents' return to crime?\n",
    "        bad. define education's impact. \n",
    "            i.e class size, teacher qualification, grades..."
   ]
  },
  {
   "cell_type": "markdown",
   "metadata": {},
   "source": [
    "    How many customers does AT&T currently serve in Washington, DC?\n",
    "        ok..."
   ]
  },
  {
   "cell_type": "markdown",
   "metadata": {},
   "source": [
    "    What factors lead consumers to choose AT&T over other service providers?\n",
    "        bad... \n",
    "            maybe take a look at the customer base of att, what type of consumer is more likely to choose att"
   ]
  },
  {
   "cell_type": "markdown",
   "metadata": {},
   "source": [
    "    How can AT&T attract more customers?\n",
    "        bad... \n",
    "            will unlimited data plans promote enrollment? "
   ]
  },
  {
   "cell_type": "markdown",
   "metadata": {},
   "source": [
    "    Why did the Challenger Shuttle explode?\n",
    "        bad... \n",
    "            "
   ]
  },
  {
   "cell_type": "markdown",
   "metadata": {},
   "source": [
    "    Which genes are associated with increased risk of breast cancer?\n",
    "        bad... \n",
    "            does (this gene...) affect the risk of breask cancer?"
   ]
  },
  {
   "cell_type": "markdown",
   "metadata": {},
   "source": [
    "    Is it better to read to children at night or in the morning?\n",
    "        bad...\n",
    "            do children react more positively when read to at night or in the morning?"
   ]
  },
  {
   "cell_type": "markdown",
   "metadata": {},
   "source": [
    "    How does Google’s search algorithm work?\n",
    "        bad...\n",
    "            how accurate is google's search algorithm when searching (...)"
   ]
  }
 ],
 "metadata": {
  "kernelspec": {
   "display_name": "Python 3",
   "language": "python",
   "name": "python3"
  },
  "language_info": {
   "codemirror_mode": {
    "name": "ipython",
    "version": 3
   },
   "file_extension": ".py",
   "mimetype": "text/x-python",
   "name": "python",
   "nbconvert_exporter": "python",
   "pygments_lexer": "ipython3",
   "version": "3.6.5"
  }
 },
 "nbformat": 4,
 "nbformat_minor": 2
}
