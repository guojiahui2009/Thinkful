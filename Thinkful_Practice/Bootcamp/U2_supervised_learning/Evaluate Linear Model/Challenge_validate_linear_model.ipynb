{
 "cells": [
  {
   "cell_type": "code",
   "execution_count": 32,
   "metadata": {},
   "outputs": [],
   "source": [
    "import pandas as pd\n",
    "from matplotlib import pyplot as plt\n",
    "import numpy as np\n",
    "import seaborn as sns\n",
    "from sklearn import linear_model\n",
    "import statsmodels.formula.api as smf\n",
    "from statsmodels.sandbox.regression.predstd import wls_prediction_std\n",
    "%matplotlib inline\n",
    "pd.options.display.float_format = '{:}'.format\n",
    "\n",
    "# Suppress annoying harmless error.\n",
    "import warnings\n",
    "warnings.filterwarnings(action=\"ignore\", module=\"scipy\", message=\"^internal gelsd\")"
   ]
  },
  {
   "cell_type": "code",
   "execution_count": 6,
   "metadata": {},
   "outputs": [],
   "source": [
    "#load data \n",
    "df1 = pd.DataFrame(pd.read_excel(\"/Users/jiahuiguo/Documents/GitHub/Thinkful/Thinkful_Practice/Bootcamp/Data/ny_crime_2013.xls\", skiprows = 4))\n",
    "df2 = pd.DataFrame(pd.read_excel(\"/Users/jiahuiguo/Documents/GitHub/Thinkful/Thinkful_Practice/Bootcamp/Data/ny_crime_2014.xls\", skiprows = 4))"
   ]
  },
  {
   "cell_type": "code",
   "execution_count": 14,
   "metadata": {},
   "outputs": [
    {
     "data": {
      "text/html": [
       "<div>\n",
       "<style scoped>\n",
       "    .dataframe tbody tr th:only-of-type {\n",
       "        vertical-align: middle;\n",
       "    }\n",
       "\n",
       "    .dataframe tbody tr th {\n",
       "        vertical-align: top;\n",
       "    }\n",
       "\n",
       "    .dataframe thead th {\n",
       "        text-align: right;\n",
       "    }\n",
       "</style>\n",
       "<table border=\"1\" class=\"dataframe\">\n",
       "  <thead>\n",
       "    <tr style=\"text-align: right;\">\n",
       "      <th></th>\n",
       "      <th>Population</th>\n",
       "      <th>murder</th>\n",
       "      <th>Robbery</th>\n",
       "      <th>property_crime</th>\n",
       "      <th>Burglary</th>\n",
       "      <th>larceny_theft</th>\n",
       "      <th>motor_theft</th>\n",
       "    </tr>\n",
       "  </thead>\n",
       "  <tbody>\n",
       "    <tr>\n",
       "      <th>0</th>\n",
       "      <td>1861.0</td>\n",
       "      <td>0.0</td>\n",
       "      <td>0.0</td>\n",
       "      <td>12.0</td>\n",
       "      <td>2.0</td>\n",
       "      <td>10.0</td>\n",
       "      <td>0.0</td>\n",
       "    </tr>\n",
       "  </tbody>\n",
       "</table>\n",
       "</div>"
      ],
      "text/plain": [
       "   Population  murder  Robbery  property_crime  Burglary  larceny_theft  \\\n",
       "0      1861.0     0.0      0.0            12.0       2.0           10.0   \n",
       "\n",
       "   motor_theft  \n",
       "0          0.0  "
      ]
     },
     "execution_count": 14,
     "metadata": {},
     "output_type": "execute_result"
    }
   ],
   "source": [
    "\n",
    "def clean_df(df1):\n",
    "    df1_clean = df1.rename(columns={ df1.columns[2]: \"violent_crime\",df1.columns[3]: \"murder\",\n",
    "                        df1.columns[4]: \"rape\",df1.columns[5]: \"rape2\",\n",
    "                        df1.columns[7]: \"A_assault\",df1.columns[8]: \"property_crime\",\n",
    "                        df1.columns[10]: \"larceny_theft\",df1.columns[11]: \"motor_theft\"})\n",
    "    columns_to_drop = {\"City\", \"violent_crime\", \"rape\", \"rape2\", \"A_assault\", \"Arson3\"}\n",
    "    return df1_clean.drop(columns_to_drop, axis =1).dropna()\n",
    "\n",
    "df1_clean = clean_df(df1)\n",
    "df2_clean = clean_df(df2)\n",
    "\n",
    "df1_clean.head(1)"
   ]
  },
  {
   "cell_type": "code",
   "execution_count": 24,
   "metadata": {},
   "outputs": [
    {
     "data": {
      "text/html": [
       "<div>\n",
       "<style scoped>\n",
       "    .dataframe tbody tr th:only-of-type {\n",
       "        vertical-align: middle;\n",
       "    }\n",
       "\n",
       "    .dataframe tbody tr th {\n",
       "        vertical-align: top;\n",
       "    }\n",
       "\n",
       "    .dataframe thead th {\n",
       "        text-align: right;\n",
       "    }\n",
       "</style>\n",
       "<table border=\"1\" class=\"dataframe\">\n",
       "  <thead>\n",
       "    <tr style=\"text-align: right;\">\n",
       "      <th></th>\n",
       "      <th>Population</th>\n",
       "      <th>murder</th>\n",
       "      <th>Robbery</th>\n",
       "      <th>property_crime</th>\n",
       "      <th>Burglary</th>\n",
       "      <th>larceny_theft</th>\n",
       "      <th>motor_theft</th>\n",
       "      <th>log_property_crime_cap</th>\n",
       "      <th>log_murder_cap</th>\n",
       "      <th>log_Robbery_cap</th>\n",
       "      <th>log_Burglary_cap</th>\n",
       "      <th>log_larceny_theft_cap</th>\n",
       "      <th>log_motor_theft_cap</th>\n",
       "      <th>log_Population</th>\n",
       "    </tr>\n",
       "  </thead>\n",
       "  <tbody>\n",
       "    <tr>\n",
       "      <th>0</th>\n",
       "      <td>1851.0</td>\n",
       "      <td>0.0</td>\n",
       "      <td>0.0</td>\n",
       "      <td>11.0</td>\n",
       "      <td>1.0</td>\n",
       "      <td>10.0</td>\n",
       "      <td>0.0</td>\n",
       "      <td>0.4664180623694419</td>\n",
       "      <td>0.0</td>\n",
       "      <td>0.0</td>\n",
       "      <td>0.052616028049613725</td>\n",
       "      <td>0.43194377633917447</td>\n",
       "      <td>0.0</td>\n",
       "      <td>7.523481312573497</td>\n",
       "    </tr>\n",
       "    <tr>\n",
       "      <th>1</th>\n",
       "      <td>2568.0</td>\n",
       "      <td>0.0</td>\n",
       "      <td>1.0</td>\n",
       "      <td>49.0</td>\n",
       "      <td>1.0</td>\n",
       "      <td>47.0</td>\n",
       "      <td>1.0</td>\n",
       "      <td>1.0674998398517614</td>\n",
       "      <td>0.0</td>\n",
       "      <td>0.03820174222566249</td>\n",
       "      <td>0.03820174222566249</td>\n",
       "      <td>1.04035376470621</td>\n",
       "      <td>0.03820174222566249</td>\n",
       "      <td>7.850882664809852</td>\n",
       "    </tr>\n",
       "  </tbody>\n",
       "</table>\n",
       "</div>"
      ],
      "text/plain": [
       "   Population  murder  Robbery  property_crime  Burglary  larceny_theft  \\\n",
       "0      1851.0     0.0      0.0            11.0       1.0           10.0   \n",
       "1      2568.0     0.0      1.0            49.0       1.0           47.0   \n",
       "\n",
       "   motor_theft  log_property_crime_cap  log_murder_cap     log_Robbery_cap  \\\n",
       "0          0.0      0.4664180623694419             0.0                 0.0   \n",
       "1          1.0      1.0674998398517614             0.0 0.03820174222566249   \n",
       "\n",
       "      log_Burglary_cap  log_larceny_theft_cap  log_motor_theft_cap  \\\n",
       "0 0.052616028049613725    0.43194377633917447                  0.0   \n",
       "1  0.03820174222566249       1.04035376470621  0.03820174222566249   \n",
       "\n",
       "     log_Population  \n",
       "0 7.523481312573497  \n",
       "1 7.850882664809852  "
      ]
     },
     "execution_count": 24,
     "metadata": {},
     "output_type": "execute_result"
    }
   ],
   "source": [
    "def log_columns(df, c_list):\n",
    "    for c in c_list:\n",
    "        df[\"log_\"+c+\"_cap\"] = ((100*df[c]/df[\"Population\"])+1).apply(np.log)\n",
    "    df[\"log_Population\"] = df[\"Population\"].apply(np.log)\n",
    "        \n",
    "c_to_log = (\"property_crime\",\"murder\", \"Robbery\", \"Burglary\", \"larceny_theft\", \"motor_theft\")\n",
    "\n",
    "log_columns(df1_clean, c_to_log)\n",
    "log_columns(df2_clean, c_to_log)\n",
    "df2_clean.head(2)"
   ]
  },
  {
   "cell_type": "code",
   "execution_count": 25,
   "metadata": {},
   "outputs": [
    {
     "data": {
      "text/plain": [
       "<matplotlib.axes._subplots.AxesSubplot at 0x116734d30>"
      ]
     },
     "execution_count": 25,
     "metadata": {},
     "output_type": "execute_result"
    },
    {
     "data": {
      "image/png": "[encoded data removed]",
      "text/plain": [
       "<Figure size 432x288 with 2 Axes>"
      ]
     },
     "metadata": {},
     "output_type": "display_data"
    }
   ],
   "source": [
    "sns.heatmap(df1_clean.corr())"
   ]
  },
  {
   "cell_type": "code",
   "execution_count": 34,
   "metadata": {},
   "outputs": [
    {
     "name": "stdout",
     "output_type": "stream",
     "text": [
      "Intercept                0.03998705757759875\n",
      "log_Population          0.004256796230703869\n",
      "log_Burglary_cap         0.44097690874426954\n",
      "log_larceny_theft_cap     0.9164574341796486\n",
      "dtype: float64\n",
      "\n",
      "\n",
      "P values:\n",
      " Intercept                0.0005700791091597245\n",
      "log_Population           0.0012156354573522443\n",
      "log_Burglary_cap        3.239785315033266e-128\n",
      "log_larceny_theft_cap                      0.0\n",
      "dtype: float64\n",
      "\n",
      "\n",
      "r_squard:\n",
      " 0.9959253575934927\n"
     ]
    }
   ],
   "source": [
    "y = \"log_property_crime_cap\"\n",
    "x = \"log_Population+log_Burglary_cap+log_larceny_theft_cap\"\n",
    "\n",
    "linear_formula = y + \" ~ \" + x\n",
    "\n",
    "lm = smf.ols(formula = linear_formula, data = df1_clean).fit()\n",
    "print(lm.params)\n",
    "print(\"\\n\\nP values:\\n\", lm.pvalues)\n",
    "print(\"\\n\\nr_squard:\\n\", lm.rsquared)"
   ]
  },
  {
   "cell_type": "code",
   "execution_count": 46,
   "metadata": {},
   "outputs": [
    {
     "name": "stdout",
     "output_type": "stream",
     "text": [
      "Coefficients: \n",
      " [0.0042568  0.44097691 0.91645743]\n",
      "Intercept: \n",
      " 0.03998705757759824\n",
      "\n",
      "\n",
      "Scores: [0.99638831 0.9976281  0.99599598 0.99520965 0.99615759 0.99613119\n",
      " 0.99452137 0.99661481 0.99425924 0.99490182]\n",
      "Mean: 0.9957808068447406\n",
      "Standard deviation: 0.000989360746466635\n"
     ]
    }
   ],
   "source": [
    "regr = linear_model.LinearRegression()\n",
    "x1 = [\"log_Population\",\"log_Burglary_cap\",\"log_larceny_theft_cap\"]\n",
    "# Fit our model to our data.\n",
    "regr.fit(df1_clean[x1], df1_clean[y])\n",
    "\n",
    "# Display the attributes we calculated.\n",
    "print('Coefficients: \\n', regr.coef_)\n",
    "print('Intercept: \\n', regr.intercept_)\n",
    "\n",
    "from sklearn.model_selection import cross_val_score\n",
    "scores = cross_val_score(regr, df1_clean[x1], df1_clean[y],  cv=10)\n",
    "r_scores = np.sqrt(scores)\n",
    "\n",
    "def display_scores(scores):\n",
    "    print(\"\\n\\nScores:\", scores)\n",
    "    print(\"Mean:\", scores.mean())\n",
    "    print(\"Standard deviation:\", scores.std())\n",
    "display_scores(scores)"
   ]
  },
  {
   "cell_type": "code",
   "execution_count": 48,
   "metadata": {},
   "outputs": [
    {
     "name": "stdout",
     "output_type": "stream",
     "text": [
      "Intercept                 0.01780036884824167\n",
      "log_Population          0.0064562258266950435\n",
      "log_Burglary_cap          0.42159627426954727\n",
      "log_larceny_theft_cap       0.923725100250489\n",
      "dtype: float64\n",
      "\n",
      "\n",
      "P values:\n",
      " Intercept                   0.1743379792131734\n",
      "log_Population          2.1778805581759642e-05\n",
      "log_Burglary_cap        1.7967352405312063e-94\n",
      "log_larceny_theft_cap                      0.0\n",
      "dtype: float64\n",
      "\n",
      "\n",
      "r_squard:\n",
      " 0.9945291340152662\n"
     ]
    }
   ],
   "source": [
    "lm1 = smf.ols(formula = linear_formula, data = df2_clean).fit()\n",
    "print(lm1.params)\n",
    "print(\"\\n\\nP values:\\n\", lm1.pvalues)\n",
    "print(\"\\n\\nr_squard:\\n\", lm1.rsquared)"
   ]
  },
  {
   "cell_type": "code",
   "execution_count": 49,
   "metadata": {},
   "outputs": [
    {
     "name": "stdout",
     "output_type": "stream",
     "text": [
      "Coefficients: \n",
      " [0.00645623 0.42159627 0.9237251 ]\n",
      "Intercept: \n",
      " 0.017800368848242543\n",
      "\n",
      "\n",
      "Scores: [0.99141603 0.99579545 0.99577598 0.99260326 0.99527507 0.99567045\n",
      " 0.98636112 0.99462441 0.99658711 0.99457726]\n",
      "Mean: 0.9938686147513222\n",
      "Standard deviation: 0.002915781457371071\n"
     ]
    }
   ],
   "source": [
    "regr1 = linear_model.LinearRegression()\n",
    "x1 = [\"log_Population\",\"log_Burglary_cap\",\"log_larceny_theft_cap\"]\n",
    "# Fit our model to our data.\n",
    "regr1.fit(df2_clean[x1], df2_clean[y])\n",
    "\n",
    "# Display the attributes we calculated.\n",
    "print('Coefficients: \\n', regr1.coef_)\n",
    "print('Intercept: \\n', regr1.intercept_)\n",
    "\n",
    "from sklearn.model_selection import cross_val_score\n",
    "scores1 = cross_val_score(regr, df2_clean[x1], df2_clean[y],  cv=10)\n",
    "r_scores = np.sqrt(scores)\n",
    "\n",
    "def display_scores(scores):\n",
    "    print(\"\\n\\nScores:\", scores)\n",
    "    print(\"Mean:\", scores.mean())\n",
    "    print(\"Standard deviation:\", scores.std())\n",
    "display_scores(scores1)"
   ]
  },
  {
   "cell_type": "markdown",
   "metadata": {},
   "source": []
  },
  {
   "cell_type": "code",
   "execution_count": null,
   "metadata": {},
   "outputs": [],
   "source": []
  },
  {
   "cell_type": "code",
   "execution_count": null,
   "metadata": {},
   "outputs": [],
   "source": []
  },
  {
   "cell_type": "code",
   "execution_count": null,
   "metadata": {},
   "outputs": [],
   "source": []
  },
  {
   "cell_type": "code",
   "execution_count": null,
   "metadata": {},
   "outputs": [],
   "source": []
  },
  {
   "cell_type": "code",
   "execution_count": null,
   "metadata": {},
   "outputs": [],
   "source": []
  },
  {
   "cell_type": "code",
   "execution_count": null,
   "metadata": {},
   "outputs": [],
   "source": []
  },
  {
   "cell_type": "code",
   "execution_count": null,
   "metadata": {},
   "outputs": [],
   "source": []
  },
  {
   "cell_type": "code",
   "execution_count": null,
   "metadata": {},
   "outputs": [],
   "source": [
    "#sns.heatmap(df2_clean.corr())"
   ]
  }
 ],
 "metadata": {
  "kernelspec": {
   "display_name": "Python 3",
   "language": "python",
   "name": "python3"
  },
  "language_info": {
   "codemirror_mode": {
    "name": "ipython",
    "version": 3
   },
   "file_extension": ".py",
   "mimetype": "text/x-python",
   "name": "python",
   "nbconvert_exporter": "python",
   "pygments_lexer": "ipython3",
   "version": "3.6.5"
  }
 },
 "nbformat": 4,
 "nbformat_minor": 2
}
