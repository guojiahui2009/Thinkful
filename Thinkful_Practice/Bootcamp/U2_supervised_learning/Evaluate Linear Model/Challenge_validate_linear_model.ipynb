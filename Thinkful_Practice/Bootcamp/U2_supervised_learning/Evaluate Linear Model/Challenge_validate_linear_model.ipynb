{
 "cells": [
  {
   "cell_type": "code",
   "execution_count": 1,
   "metadata": {},
   "outputs": [],
   "source": [
    "import pandas as pd\n",
    "from matplotlib import pyplot as plt\n",
    "import numpy as np\n",
    "import seaborn as sns\n",
    "from sklearn import linear_model\n",
    "import statsmodels.formula.api as smf\n",
    "from statsmodels.sandbox.regression.predstd import wls_prediction_std\n",
    "%matplotlib inline\n",
    "pd.options.display.float_format = '{:}'.format\n",
    "\n",
    "# Suppress annoying harmless error.\n",
    "import warnings\n",
    "warnings.filterwarnings(action=\"ignore\", module=\"scipy\", message=\"^internal gelsd\")"
   ]
  },
  {
   "cell_type": "code",
   "execution_count": 2,
   "metadata": {},
   "outputs": [
    {
     "data": {
      "text/html": [
       "<div>\n",
       "<style scoped>\n",
       "    .dataframe tbody tr th:only-of-type {\n",
       "        vertical-align: middle;\n",
       "    }\n",
       "\n",
       "    .dataframe tbody tr th {\n",
       "        vertical-align: top;\n",
       "    }\n",
       "\n",
       "    .dataframe thead th {\n",
       "        text-align: right;\n",
       "    }\n",
       "</style>\n",
       "<table border=\"1\" class=\"dataframe\">\n",
       "  <thead>\n",
       "    <tr style=\"text-align: right;\">\n",
       "      <th></th>\n",
       "      <th>City</th>\n",
       "      <th>Population</th>\n",
       "      <th>Violent\n",
       "crime</th>\n",
       "      <th>Murder and\n",
       "nonnegligent\n",
       "manslaughter</th>\n",
       "      <th>Rape\n",
       "(revised\n",
       "definition)1</th>\n",
       "      <th>Rape\n",
       "(legacy\n",
       "definition)2</th>\n",
       "      <th>Robbery</th>\n",
       "      <th>Aggravated\n",
       "assault</th>\n",
       "      <th>Property\n",
       "crime</th>\n",
       "      <th>Burglary</th>\n",
       "      <th>Larceny-\n",
       "theft</th>\n",
       "      <th>Motor\n",
       "vehicle\n",
       "theft</th>\n",
       "      <th>Arson3</th>\n",
       "    </tr>\n",
       "  </thead>\n",
       "  <tbody>\n",
       "    <tr>\n",
       "      <th>0</th>\n",
       "      <td>Adams Village</td>\n",
       "      <td>1861.0</td>\n",
       "      <td>0.0</td>\n",
       "      <td>0.0</td>\n",
       "      <td>nan</td>\n",
       "      <td>0.0</td>\n",
       "      <td>0.0</td>\n",
       "      <td>0.0</td>\n",
       "      <td>12.0</td>\n",
       "      <td>2.0</td>\n",
       "      <td>10.0</td>\n",
       "      <td>0.0</td>\n",
       "      <td>0.0</td>\n",
       "    </tr>\n",
       "    <tr>\n",
       "      <th>1</th>\n",
       "      <td>Addison Town and Village</td>\n",
       "      <td>2577.0</td>\n",
       "      <td>3.0</td>\n",
       "      <td>0.0</td>\n",
       "      <td>nan</td>\n",
       "      <td>0.0</td>\n",
       "      <td>0.0</td>\n",
       "      <td>3.0</td>\n",
       "      <td>24.0</td>\n",
       "      <td>3.0</td>\n",
       "      <td>20.0</td>\n",
       "      <td>1.0</td>\n",
       "      <td>0.0</td>\n",
       "    </tr>\n",
       "    <tr>\n",
       "      <th>2</th>\n",
       "      <td>Akron Village</td>\n",
       "      <td>2846.0</td>\n",
       "      <td>3.0</td>\n",
       "      <td>0.0</td>\n",
       "      <td>nan</td>\n",
       "      <td>0.0</td>\n",
       "      <td>0.0</td>\n",
       "      <td>3.0</td>\n",
       "      <td>16.0</td>\n",
       "      <td>1.0</td>\n",
       "      <td>15.0</td>\n",
       "      <td>0.0</td>\n",
       "      <td>0.0</td>\n",
       "    </tr>\n",
       "    <tr>\n",
       "      <th>3</th>\n",
       "      <td>Albany</td>\n",
       "      <td>97956.0</td>\n",
       "      <td>791.0</td>\n",
       "      <td>8.0</td>\n",
       "      <td>nan</td>\n",
       "      <td>30.0</td>\n",
       "      <td>227.0</td>\n",
       "      <td>526.0</td>\n",
       "      <td>4090.0</td>\n",
       "      <td>705.0</td>\n",
       "      <td>3243.0</td>\n",
       "      <td>142.0</td>\n",
       "      <td>nan</td>\n",
       "    </tr>\n",
       "    <tr>\n",
       "      <th>4</th>\n",
       "      <td>Albion Village</td>\n",
       "      <td>6388.0</td>\n",
       "      <td>23.0</td>\n",
       "      <td>0.0</td>\n",
       "      <td>nan</td>\n",
       "      <td>3.0</td>\n",
       "      <td>4.0</td>\n",
       "      <td>16.0</td>\n",
       "      <td>223.0</td>\n",
       "      <td>53.0</td>\n",
       "      <td>165.0</td>\n",
       "      <td>5.0</td>\n",
       "      <td>nan</td>\n",
       "    </tr>\n",
       "  </tbody>\n",
       "</table>\n",
       "</div>"
      ],
      "text/plain": [
       "                       City  Population  Violent\\ncrime  \\\n",
       "0             Adams Village      1861.0             0.0   \n",
       "1  Addison Town and Village      2577.0             3.0   \n",
       "2             Akron Village      2846.0             3.0   \n",
       "3                    Albany     97956.0           791.0   \n",
       "4            Albion Village      6388.0            23.0   \n",
       "\n",
       "   Murder and\\nnonnegligent\\nmanslaughter  Rape\\n(revised\\ndefinition)1  \\\n",
       "0                                     0.0                           nan   \n",
       "1                                     0.0                           nan   \n",
       "2                                     0.0                           nan   \n",
       "3                                     8.0                           nan   \n",
       "4                                     0.0                           nan   \n",
       "\n",
       "   Rape\\n(legacy\\ndefinition)2  Robbery  Aggravated\\nassault  Property\\ncrime  \\\n",
       "0                          0.0      0.0                  0.0             12.0   \n",
       "1                          0.0      0.0                  3.0             24.0   \n",
       "2                          0.0      0.0                  3.0             16.0   \n",
       "3                         30.0    227.0                526.0           4090.0   \n",
       "4                          3.0      4.0                 16.0            223.0   \n",
       "\n",
       "   Burglary  Larceny-\\ntheft  Motor\\nvehicle\\ntheft  Arson3  \n",
       "0       2.0             10.0                    0.0     0.0  \n",
       "1       3.0             20.0                    1.0     0.0  \n",
       "2       1.0             15.0                    0.0     0.0  \n",
       "3     705.0           3243.0                  142.0     nan  \n",
       "4      53.0            165.0                    5.0     nan  "
      ]
     },
     "execution_count": 2,
     "metadata": {},
     "output_type": "execute_result"
    }
   ],
   "source": [
    "#load data \n",
    "df1 = pd.DataFrame(pd.read_excel(\"/Users/jiahuiguo/Documents/GitHub/Thinkful/Thinkful_Practice/Bootcamp/Data/ny_crime_2013.xls\", skiprows = 4))\n",
    "df2 = pd.DataFrame(pd.read_excel(\"/Users/jiahuiguo/Documents/GitHub/Thinkful/Thinkful_Practice/Bootcamp/Data/ny_crime_2014.xls\", skiprows = 4))\n",
    "\n",
    "df1.head()"
   ]
  },
  {
   "cell_type": "code",
   "execution_count": 45,
   "metadata": {},
   "outputs": [
    {
     "data": {
      "text/html": [
       "<div>\n",
       "<style scoped>\n",
       "    .dataframe tbody tr th:only-of-type {\n",
       "        vertical-align: middle;\n",
       "    }\n",
       "\n",
       "    .dataframe tbody tr th {\n",
       "        vertical-align: top;\n",
       "    }\n",
       "\n",
       "    .dataframe thead th {\n",
       "        text-align: right;\n",
       "    }\n",
       "</style>\n",
       "<table border=\"1\" class=\"dataframe\">\n",
       "  <thead>\n",
       "    <tr style=\"text-align: right;\">\n",
       "      <th></th>\n",
       "      <th>City</th>\n",
       "      <th>Population</th>\n",
       "      <th>violent_crime</th>\n",
       "      <th>murder</th>\n",
       "      <th>rape2</th>\n",
       "      <th>Robbery</th>\n",
       "      <th>property_crime</th>\n",
       "      <th>Burglary</th>\n",
       "      <th>larceny_theft</th>\n",
       "      <th>motor_theft</th>\n",
       "    </tr>\n",
       "  </thead>\n",
       "  <tbody>\n",
       "    <tr>\n",
       "      <th>0</th>\n",
       "      <td>Adams Village</td>\n",
       "      <td>1861.0</td>\n",
       "      <td>0.0</td>\n",
       "      <td>0.0</td>\n",
       "      <td>0.0</td>\n",
       "      <td>0.0</td>\n",
       "      <td>12.0</td>\n",
       "      <td>2.0</td>\n",
       "      <td>10.0</td>\n",
       "      <td>0.0</td>\n",
       "    </tr>\n",
       "  </tbody>\n",
       "</table>\n",
       "</div>"
      ],
      "text/plain": [
       "            City  Population  violent_crime  murder  rape2  Robbery  \\\n",
       "0  Adams Village      1861.0            0.0     0.0    0.0      0.0   \n",
       "\n",
       "   property_crime  Burglary  larceny_theft  motor_theft  \n",
       "0            12.0       2.0           10.0          0.0  "
      ]
     },
     "execution_count": 45,
     "metadata": {},
     "output_type": "execute_result"
    }
   ],
   "source": [
    "\n",
    "def clean_df(df1):\n",
    "    df1_clean = df1.rename(columns={ df1.columns[2]: \"violent_crime\",df1.columns[3]: \"murder\",\n",
    "                        df1.columns[4]: \"rape\",df1.columns[5]: \"rape2\",\n",
    "                        df1.columns[7]: \"A_assault\",df1.columns[8]: \"property_crime\",\n",
    "                        df1.columns[10]: \"larceny_theft\",df1.columns[11]: \"motor_theft\"})\n",
    "    columns_to_drop = { \"rape\", \"A_assault\", \"Arson3\"}\n",
    "    return df1_clean.drop(columns_to_drop, axis =1).dropna()\n",
    "\n",
    "df1_clean = clean_df(df1)\n",
    "df2_clean = clean_df(df2)\n",
    "\n",
    "df1_clean.head(1)"
   ]
  },
  {
   "cell_type": "code",
   "execution_count": 43,
   "metadata": {},
   "outputs": [],
   "source": [
    "df1_clean[\"total_crime\"] = df1_clean[\"violent_crime\"] + df1_clean[\"property_crime\"]\n",
    "df1_clean[\"exp_pop\"] = (df1_clean[\"Population\"]/526).apply(np.exp)\n",
    "df1_clean[\"sqrt_pop\"] = df1_clean[\"Population\"].apply(np.sqrt)\n",
    "df1_clean[\"pop2\"] = df1_clean[\"Population\"] **2\n",
    "df1_clean = df1_clean.fillna(0)"
   ]
  },
  {
   "cell_type": "code",
   "execution_count": 47,
   "metadata": {},
   "outputs": [
    {
     "data": {
      "text/plain": [
       "array(['Adams Village', 'Addison Town and Village', 'Akron Village',\n",
       "       'Albany', 'Albion Village', 'Alfred Village', 'Allegany Village',\n",
       "       'Amherst Town', 'Amityville Village', 'Amsterdam',\n",
       "       'Arcade Village', 'Ardsley Village', 'Asharoken Village',\n",
       "       'Attica Village', 'Auburn', 'Avon Village',\n",
       "       'Baldwinsville Village', 'Ballston Spa Village', 'Batavia',\n",
       "       'Bath Village', 'Bedford Town', 'Bethlehem Town', 'Binghamton',\n",
       "       'Black River', 'Blooming Grove Town', 'Bolivar Village',\n",
       "       'Bolton Town', 'Boonville Village', 'Brant Town', 'Brewster',\n",
       "       'Briarcliff Manor Village', 'Brighton Town', 'Brockport Village',\n",
       "       'Bronxville Village', 'Brownville Village', 'Buffalo',\n",
       "       'Cairo Town', 'Cambridge Village', 'Camden Village',\n",
       "       'Camillus Town and Village', 'Canandaigua', 'Canastota Village',\n",
       "       'Canisteo Village', 'Canton Village', 'Cape Vincent Village',\n",
       "       'Carmel Town', 'Carroll Town', 'Carthage Village',\n",
       "       'Cattaraugus Village', 'Cayuga Heights Village',\n",
       "       'Cazenovia Village', 'Central Square Village', 'Chatham Village',\n",
       "       'Cheektowaga Town', 'Chester Town', 'Chittenango Village',\n",
       "       'Cicero Town', 'Clarkstown Town', 'Clyde Village',\n",
       "       'Cobleskill Village', 'Coeymans Town', 'Cohoes', 'Colonie Town',\n",
       "       'Cooperstown Village', 'Corning', 'Cornwall-on-Hudson Village',\n",
       "       'Cornwall Town', 'Cortland', 'Crawford Town',\n",
       "       'Croton-on-Hudson Village', 'Cuba Town', 'Dansville Village',\n",
       "       'Deerpark Town', 'Delhi Village', 'Depew Village',\n",
       "       'Deposit Village', 'Dewitt Town', 'Dexter Village',\n",
       "       'Dobbs Ferry Village', 'Dolgeville Village', 'Dryden Village',\n",
       "       'Dunkirk', 'East Aurora-Aurora Town', 'Eastchester Town',\n",
       "       'East Fishkill Town', 'East Greenbush Town', 'East Hampton Town',\n",
       "       'East Hampton Village', 'East Rochester Village',\n",
       "       'East Syracuse Village', 'Eden Town', 'Ellenville Village',\n",
       "       'Ellicott Town', 'Elmira', 'Elmira Heights Village', 'Elmira Town',\n",
       "       'Endicott Village', 'Evans Town', 'Fairport Village',\n",
       "       'Fallsburg Town', 'Fishkill Town', 'Floral Park Village',\n",
       "       'Florida Village', 'Fort Plain Village', 'Frankfort Town',\n",
       "       'Frankfort Village', 'Franklinville Village', 'Fredonia Village',\n",
       "       'Freeport Village', 'Friendship Town', 'Fulton City',\n",
       "       'Garden City Village', 'Gates Town', 'Geddes Town',\n",
       "       'Geneseo Village', 'Geneva', 'Germantown Town', 'Glen Cove',\n",
       "       'Glen Park Village', 'Glens Falls', 'Glenville Town',\n",
       "       'Gloversville', 'Goshen Village', 'Gowanda Village',\n",
       "       'Granville Village', 'Great Neck Estates Village', 'Greece Town',\n",
       "       'Greenburgh Town', 'Greene Village', 'Green Island Village',\n",
       "       'Greenport Town', 'Greenwood Lake Village', 'Groton Village',\n",
       "       'Guilderland Town', 'Hamburg Town', 'Hamburg Village',\n",
       "       'Hammondsport Village', 'Harrison Town',\n",
       "       'Hastings-on-Hudson Village', 'Haverstraw Town',\n",
       "       'Hempstead Village', 'Herkimer Village', 'Highland Falls Village',\n",
       "       'Homer Village', 'Hoosick Falls Village', 'Hornell',\n",
       "       'Horseheads Village', 'Hudson', 'Hudson Falls Village',\n",
       "       'Huntington Bay Village', 'Hyde Park Town', 'Ilion Village',\n",
       "       'Irondequoit Town', 'Irvington Village', 'Jamestown',\n",
       "       'Johnson City Village', 'Johnstown', 'Jordan Village',\n",
       "       'Kenmore Village', 'Kent Town', 'Kings Point Village', 'Kingston',\n",
       "       'Kirkland Town', 'Lackawanna', 'Lake Placid Village',\n",
       "       'Lake Success Village', 'Lakewood-Busti', 'Lancaster Town',\n",
       "       'Larchmont Village', 'Le Roy Village', 'Lewiston Town and Village',\n",
       "       'Liberty Village', 'Little Falls', 'Liverpool Village',\n",
       "       'Lloyd Harbor Village', 'Lloyd Town', 'Lockport', 'Long Beach',\n",
       "       'Lowville Village', 'Lynbrook Village', 'Lyons Village',\n",
       "       'Macedon Town and Village', 'Malone Village', 'Malverne Village',\n",
       "       'Mamaroneck Town', 'Mamaroneck Village', 'Manchester Village',\n",
       "       'Manlius Town', 'Marcellus Village', 'Marlborough Town',\n",
       "       'Massena Village', 'Mechanicville', 'Medina Village',\n",
       "       'Menands Village', 'Middleport Village', 'Middletown',\n",
       "       'Monroe Village', 'Montgomery Town', 'Montgomery Village',\n",
       "       'Monticello Village', 'Moravia Village', 'Moriah Town',\n",
       "       'Mount Hope Town', 'Mount Kisco Village', 'Mount Morris Village',\n",
       "       'Mount Pleasant Town', 'Mount Vernon', 'Newark Village',\n",
       "       'New Berlin Town', 'Newburgh', 'Newburgh Town', 'New Castle Town',\n",
       "       'New Hartford Town and Village', 'New Paltz Town and Village',\n",
       "       'New Rochelle', 'New Windsor Town', 'New York',\n",
       "       'New York Mills Village', 'Niagara Falls', 'Niagara Town',\n",
       "       'Niskayuna Town', 'Nissequogue Village', 'North Castle Town',\n",
       "       'North Greenbush Town', 'Northport Village',\n",
       "       'North Syracuse Village', 'North Tonawanda', 'Northville Village',\n",
       "       'Norwich', 'Ogdensburg', 'Ogden Town', 'Old Brookville Village',\n",
       "       'Old Westbury Village', 'Olean', 'Oneida', 'Oneonta City',\n",
       "       'Orangetown Town', 'Orchard Park Town', 'Oriskany Village',\n",
       "       'Ossining Village', 'Oswego City', 'Owego Village',\n",
       "       'Oxford Village', 'Oyster Bay Cove Village',\n",
       "       'Painted Post Village', 'Palmyra Village', 'Peekskill',\n",
       "       'Pelham Manor Village', 'Pelham Village', 'Penn Yan Village',\n",
       "       'Perry Village', 'Piermont Village', 'Pine Plains Town',\n",
       "       'Plattekill Town', 'Plattsburgh City', 'Pleasantville Village',\n",
       "       'Port Byron Village', 'Port Chester Village',\n",
       "       'Port Dickinson Village', 'Port Jervis', 'Portville Village',\n",
       "       'Potsdam Village', 'Poughkeepsie', 'Poughkeepsie Town',\n",
       "       'Pound Ridge Town', 'Pulaski Village', 'Quogue Village',\n",
       "       'Ramapo Town', 'Red Hook Village', 'Rensselaer City',\n",
       "       'Rhinebeck Village', 'Riverhead Town', 'Rochester',\n",
       "       'Rockville Centre Village', 'Rome', 'Rosendale Town',\n",
       "       'Rotterdam Town', 'Rye Brook Village', 'Sag Harbor Village',\n",
       "       'Salamanca', 'Sands Point Village', 'Saranac Lake Village',\n",
       "       'Saratoga Springs', 'Saugerties Town', 'Scarsdale Village',\n",
       "       'Schenectady', 'Schodack Town', 'Schoharie Village',\n",
       "       'Scotia Village', 'Seneca Falls Town', 'Shandaken Town',\n",
       "       'Shawangunk Town', 'Shelter Island Town', 'Sherburne Village',\n",
       "       'Sherrill', 'Shortsville Village', 'Sidney Village',\n",
       "       'Skaneateles Village', 'Sleepy Hollow Village', 'Sodus Village',\n",
       "       'Solvay Village', 'Southampton Town', 'Southampton Village',\n",
       "       'South Glens Falls Village', 'Southold Town',\n",
       "       'Spring Valley Village', 'Stillwater Town',\n",
       "       'St. Johnsville Village', 'Stony Point Town', 'Suffern Village',\n",
       "       'Syracuse', 'Tarrytown Village', 'Ticonderoga Town', 'Tonawanda',\n",
       "       'Tonawanda Town', 'Troy', 'Trumansburg Village',\n",
       "       'Tuckahoe Village', 'Tupper Lake Village', 'Tuxedo Park Village',\n",
       "       'Ulster Town', 'Utica', 'Vestal Town', 'Walden Village',\n",
       "       'Wallkill Town', 'Walton Village', 'Warsaw Village',\n",
       "       'Washingtonville Village', 'Waterford Town and Village',\n",
       "       'Waterloo Village', 'Watertown', 'Watervliet',\n",
       "       'Watkins Glen Village', 'Waverly Village',\n",
       "       'Webster Town and Village', 'Weedsport Village',\n",
       "       'Wellsville Village', 'Westhampton Beach Village',\n",
       "       'West Seneca Town', 'Whitehall Village', 'White Plains',\n",
       "       'Whitesboro Village', 'Whitestown Town', 'Woodbury Town',\n",
       "       'Woodridge Village', 'Woodstock Town', 'Yonkers', 'Yorktown Town'],\n",
       "      dtype=object)"
      ]
     },
     "execution_count": 47,
     "metadata": {},
     "output_type": "execute_result"
    }
   ],
   "source": [
    "df1_clean[\"City\"].unique()"
   ]
  },
  {
   "cell_type": "code",
   "execution_count": 42,
   "metadata": {},
   "outputs": [
    {
     "data": {
      "text/plain": [
       "count               348.0\n",
       "mean    40037.63218390805\n",
       "std     450037.3675209857\n",
       "min                 526.0\n",
       "25%                3003.0\n",
       "50%                7233.5\n",
       "75%               18427.5\n",
       "max             8396126.0\n",
       "Name: Population, dtype: float64"
      ]
     },
     "execution_count": 42,
     "metadata": {},
     "output_type": "execute_result"
    }
   ],
   "source": [
    "df1_clean[\"Population\"].describe()"
   ]
  },
  {
   "cell_type": "code",
   "execution_count": 44,
   "metadata": {},
   "outputs": [
    {
     "name": "stderr",
     "output_type": "stream",
     "text": [
      "/Library/Frameworks/Python.framework/Versions/3.6/lib/python3.6/site-packages/matplotlib/axes/_axes.py:6462: UserWarning: The 'normed' kwarg is deprecated, and has been replaced by the 'density' kwarg.\n",
      "  warnings.warn(\"The 'normed' kwarg is deprecated, and has been \"\n",
      "/Library/Frameworks/Python.framework/Versions/3.6/lib/python3.6/site-packages/matplotlib/axes/_axes.py:6462: UserWarning: The 'normed' kwarg is deprecated, and has been replaced by the 'density' kwarg.\n",
      "  warnings.warn(\"The 'normed' kwarg is deprecated, and has been \"\n"
     ]
    },
    {
     "data": {
      "image/png": "[encoded data removed]",
      "text/plain": [
       "<Figure size 432x432 with 3 Axes>"
      ]
     },
     "metadata": {},
     "output_type": "display_data"
    }
   ],
   "source": [
    "#sns.distplot(df1_clean[\"total_crime\"], df1_clean[\"Population\"])\n",
    "sns.jointplot(x=\"exp_pop\", y=\"total_crime\", data=df1_clean[df1_clean[\"Population\"] < 100000].dropna());"
   ]
  },
  {
   "cell_type": "code",
   "execution_count": null,
   "metadata": {},
   "outputs": [],
   "source": [
    "lm = smf.ols(formula = \"total_crime ~\", data = df1_no_zeros).fit()\n",
    "print(lm.params)\n",
    "print(\"\\n\\nP values:\\n\", lm.pvalues)\n",
    "print(\"\\n\\nr_squard:\\n\", lm.rsquared)"
   ]
  },
  {
   "cell_type": "code",
   "execution_count": 50,
   "metadata": {},
   "outputs": [
    {
     "name": "stdout",
     "output_type": "stream",
     "text": [
      "Coefficients: \n",
      " [0.01695663]\n",
      "Intercept: \n",
      " 113.70298212789032\n",
      "\n",
      "\n",
      "Scores: [ 0.65820789  0.57221307  0.25187697  0.76853964  0.64827261  0.62199386\n",
      " -0.0816426   0.55992872  0.59367216  0.65374456]\n",
      "Mean: 0.5246806879658107\n",
      "Standard deviation: 0.2385393839977479\n"
     ]
    },
    {
     "name": "stderr",
     "output_type": "stream",
     "text": [
      "/Library/Frameworks/Python.framework/Versions/3.6/lib/python3.6/site-packages/ipykernel_launcher.py:12: RuntimeWarning: invalid value encountered in sqrt\n",
      "  if sys.path[0] == '':\n"
     ]
    }
   ],
   "source": [
    "regr = linear_model.LinearRegression()\n",
    "x1 = [\"Population\"]\n",
    "# Fit our model to our data.\n",
    "regr.fit(df1_clean[x1], df1_clean[\"property_crime\"])\n",
    "\n",
    "# Display the attributes we calculated.\n",
    "print('Coefficients: \\n', regr.coef_)\n",
    "print('Intercept: \\n', regr.intercept_)\n",
    "\n",
    "from sklearn.model_selection import cross_val_score\n",
    "scores = cross_val_score(regr, df1_clean[x1], df1_clean[\"property_crime\"],  cv=10)\n",
    "r_scores = np.sqrt(scores)\n",
    "\n",
    "def display_scores(scores):\n",
    "    print(\"\\n\\nScores:\", scores)\n",
    "    print(\"Mean:\", scores.mean())\n",
    "    print(\"Standard deviation:\", scores.std())\n",
    "display_scores(scores)"
   ]
  },
  {
   "cell_type": "code",
   "execution_count": null,
   "metadata": {},
   "outputs": [],
   "source": []
  },
  {
   "cell_type": "code",
   "execution_count": 5,
   "metadata": {},
   "outputs": [
    {
     "data": {
      "text/html": [
       "<div>\n",
       "<style scoped>\n",
       "    .dataframe tbody tr th:only-of-type {\n",
       "        vertical-align: middle;\n",
       "    }\n",
       "\n",
       "    .dataframe tbody tr th {\n",
       "        vertical-align: top;\n",
       "    }\n",
       "\n",
       "    .dataframe thead th {\n",
       "        text-align: right;\n",
       "    }\n",
       "</style>\n",
       "<table border=\"1\" class=\"dataframe\">\n",
       "  <thead>\n",
       "    <tr style=\"text-align: right;\">\n",
       "      <th></th>\n",
       "      <th>Population</th>\n",
       "      <th>violent_crime</th>\n",
       "      <th>murder</th>\n",
       "      <th>rape2</th>\n",
       "      <th>Robbery</th>\n",
       "      <th>property_crime</th>\n",
       "      <th>Burglary</th>\n",
       "      <th>larceny_theft</th>\n",
       "      <th>motor_theft</th>\n",
       "      <th>log_property_crime_cap</th>\n",
       "      <th>log_murder_cap</th>\n",
       "      <th>log_rape2_cap</th>\n",
       "      <th>log_Robbery_cap</th>\n",
       "      <th>log_Burglary_cap</th>\n",
       "      <th>log_larceny_theft_cap</th>\n",
       "      <th>log_motor_theft_cap</th>\n",
       "      <th>log_violent_crime_cap</th>\n",
       "      <th>log_Population</th>\n",
       "    </tr>\n",
       "  </thead>\n",
       "  <tbody>\n",
       "    <tr>\n",
       "      <th>0</th>\n",
       "      <td>1851.0</td>\n",
       "      <td>0.0</td>\n",
       "      <td>0.0</td>\n",
       "      <td>0.0</td>\n",
       "      <td>0.0</td>\n",
       "      <td>11.0</td>\n",
       "      <td>1.0</td>\n",
       "      <td>10.0</td>\n",
       "      <td>0.0</td>\n",
       "      <td>0.4664180623694419</td>\n",
       "      <td>0.0</td>\n",
       "      <td>0.0</td>\n",
       "      <td>0.0</td>\n",
       "      <td>0.052616028049613725</td>\n",
       "      <td>0.43194377633917447</td>\n",
       "      <td>0.0</td>\n",
       "      <td>0.0</td>\n",
       "      <td>7.523481312573497</td>\n",
       "    </tr>\n",
       "    <tr>\n",
       "      <th>1</th>\n",
       "      <td>2568.0</td>\n",
       "      <td>2.0</td>\n",
       "      <td>0.0</td>\n",
       "      <td>0.0</td>\n",
       "      <td>1.0</td>\n",
       "      <td>49.0</td>\n",
       "      <td>1.0</td>\n",
       "      <td>47.0</td>\n",
       "      <td>1.0</td>\n",
       "      <td>1.0674998398517614</td>\n",
       "      <td>0.0</td>\n",
       "      <td>0.0</td>\n",
       "      <td>0.03820174222566249</td>\n",
       "      <td>0.03820174222566249</td>\n",
       "      <td>1.04035376470621</td>\n",
       "      <td>0.03820174222566249</td>\n",
       "      <td>0.0749976519277083</td>\n",
       "      <td>7.850882664809852</td>\n",
       "    </tr>\n",
       "    <tr>\n",
       "      <th>3</th>\n",
       "      <td>2842.0</td>\n",
       "      <td>1.0</td>\n",
       "      <td>0.0</td>\n",
       "      <td>0.0</td>\n",
       "      <td>0.0</td>\n",
       "      <td>17.0</td>\n",
       "      <td>0.0</td>\n",
       "      <td>17.0</td>\n",
       "      <td>0.0</td>\n",
       "      <td>0.4688594140084578</td>\n",
       "      <td>0.0</td>\n",
       "      <td>0.0</td>\n",
       "      <td>0.0</td>\n",
       "      <td>0.0</td>\n",
       "      <td>0.4688594140084578</td>\n",
       "      <td>0.0</td>\n",
       "      <td>0.034581592504336775</td>\n",
       "      <td>7.952263308657046</td>\n",
       "    </tr>\n",
       "    <tr>\n",
       "      <th>11</th>\n",
       "      <td>9509.0</td>\n",
       "      <td>12.0</td>\n",
       "      <td>0.0</td>\n",
       "      <td>0.0</td>\n",
       "      <td>11.0</td>\n",
       "      <td>198.0</td>\n",
       "      <td>10.0</td>\n",
       "      <td>175.0</td>\n",
       "      <td>13.0</td>\n",
       "      <td>1.1256559175350123</td>\n",
       "      <td>0.0</td>\n",
       "      <td>0.0</td>\n",
       "      <td>0.10946397891982731</td>\n",
       "      <td>0.0999933143261522</td>\n",
       "      <td>1.0439314252371423</td>\n",
       "      <td>0.12814040187675865</td>\n",
       "      <td>0.11884579086143088</td>\n",
       "      <td>9.159993997539445</td>\n",
       "    </tr>\n",
       "    <tr>\n",
       "      <th>12</th>\n",
       "      <td>18099.0</td>\n",
       "      <td>27.0</td>\n",
       "      <td>0.0</td>\n",
       "      <td>0.0</td>\n",
       "      <td>15.0</td>\n",
       "      <td>490.0</td>\n",
       "      <td>107.0</td>\n",
       "      <td>370.0</td>\n",
       "      <td>13.0</td>\n",
       "      <td>1.3103124526101917</td>\n",
       "      <td>0.0</td>\n",
       "      <td>0.0</td>\n",
       "      <td>0.07962185639998869</td>\n",
       "      <td>0.46448397619011333</td>\n",
       "      <td>1.1132748790471159</td>\n",
       "      <td>0.0693648302222346</td>\n",
       "      <td>0.13904822050172874</td>\n",
       "      <td>9.803611967108871</td>\n",
       "    </tr>\n",
       "    <tr>\n",
       "      <th>14</th>\n",
       "      <td>2030.0</td>\n",
       "      <td>0.0</td>\n",
       "      <td>0.0</td>\n",
       "      <td>0.0</td>\n",
       "      <td>0.0</td>\n",
       "      <td>25.0</td>\n",
       "      <td>7.0</td>\n",
       "      <td>18.0</td>\n",
       "      <td>0.0</td>\n",
       "      <td>0.8026861464412467</td>\n",
       "      <td>0.0</td>\n",
       "      <td>0.0</td>\n",
       "      <td>0.0</td>\n",
       "      <td>0.29626581614317243</td>\n",
       "      <td>0.6348290101388586</td>\n",
       "      <td>0.0</td>\n",
       "      <td>0.0</td>\n",
       "      <td>7.615791072035833</td>\n",
       "    </tr>\n",
       "    <tr>\n",
       "      <th>15</th>\n",
       "      <td>4561.0</td>\n",
       "      <td>1.0</td>\n",
       "      <td>0.0</td>\n",
       "      <td>0.0</td>\n",
       "      <td>0.0</td>\n",
       "      <td>25.0</td>\n",
       "      <td>6.0</td>\n",
       "      <td>19.0</td>\n",
       "      <td>0.0</td>\n",
       "      <td>0.4370447868046464</td>\n",
       "      <td>0.0</td>\n",
       "      <td>0.0</td>\n",
       "      <td>0.0</td>\n",
       "      <td>0.12358846143702668</td>\n",
       "      <td>0.34824220684646506</td>\n",
       "      <td>0.0</td>\n",
       "      <td>0.021688119661040502</td>\n",
       "      <td>8.4252971767117</td>\n",
       "    </tr>\n",
       "    <tr>\n",
       "      <th>16</th>\n",
       "      <td>656.0</td>\n",
       "      <td>0.0</td>\n",
       "      <td>0.0</td>\n",
       "      <td>0.0</td>\n",
       "      <td>0.0</td>\n",
       "      <td>6.0</td>\n",
       "      <td>0.0</td>\n",
       "      <td>4.0</td>\n",
       "      <td>2.0</td>\n",
       "      <td>0.6495265580840549</td>\n",
       "      <td>0.0</td>\n",
       "      <td>0.0</td>\n",
       "      <td>0.0</td>\n",
       "      <td>0.0</td>\n",
       "      <td>0.4760826753221178</td>\n",
       "      <td>0.2661095871976531</td>\n",
       "      <td>0.0</td>\n",
       "      <td>6.486160788944089</td>\n",
       "    </tr>\n",
       "    <tr>\n",
       "      <th>17</th>\n",
       "      <td>2502.0</td>\n",
       "      <td>0.0</td>\n",
       "      <td>0.0</td>\n",
       "      <td>0.0</td>\n",
       "      <td>0.0</td>\n",
       "      <td>12.0</td>\n",
       "      <td>0.0</td>\n",
       "      <td>12.0</td>\n",
       "      <td>0.0</td>\n",
       "      <td>0.39178280210658645</td>\n",
       "      <td>0.0</td>\n",
       "      <td>0.0</td>\n",
       "      <td>0.0</td>\n",
       "      <td>0.0</td>\n",
       "      <td>0.39178280210658645</td>\n",
       "      <td>0.0</td>\n",
       "      <td>0.0</td>\n",
       "      <td>7.824845691026856</td>\n",
       "    </tr>\n",
       "    <tr>\n",
       "      <th>27</th>\n",
       "      <td>1392.0</td>\n",
       "      <td>0.0</td>\n",
       "      <td>0.0</td>\n",
       "      <td>0.0</td>\n",
       "      <td>0.0</td>\n",
       "      <td>3.0</td>\n",
       "      <td>1.0</td>\n",
       "      <td>2.0</td>\n",
       "      <td>0.0</td>\n",
       "      <td>0.19516969927180358</td>\n",
       "      <td>0.0</td>\n",
       "      <td>0.0</td>\n",
       "      <td>0.0</td>\n",
       "      <td>0.06937593986934125</td>\n",
       "      <td>0.13424952550996347</td>\n",
       "      <td>0.0</td>\n",
       "      <td>0.0</td>\n",
       "      <td>7.238496840894365</td>\n",
       "    </tr>\n",
       "  </tbody>\n",
       "</table>\n",
       "</div>"
      ],
      "text/plain": [
       "    Population  violent_crime  murder  rape2  Robbery  property_crime  \\\n",
       "0       1851.0            0.0     0.0    0.0      0.0            11.0   \n",
       "1       2568.0            2.0     0.0    0.0      1.0            49.0   \n",
       "3       2842.0            1.0     0.0    0.0      0.0            17.0   \n",
       "11      9509.0           12.0     0.0    0.0     11.0           198.0   \n",
       "12     18099.0           27.0     0.0    0.0     15.0           490.0   \n",
       "14      2030.0            0.0     0.0    0.0      0.0            25.0   \n",
       "15      4561.0            1.0     0.0    0.0      0.0            25.0   \n",
       "16       656.0            0.0     0.0    0.0      0.0             6.0   \n",
       "17      2502.0            0.0     0.0    0.0      0.0            12.0   \n",
       "27      1392.0            0.0     0.0    0.0      0.0             3.0   \n",
       "\n",
       "    Burglary  larceny_theft  motor_theft  log_property_crime_cap  \\\n",
       "0        1.0           10.0          0.0      0.4664180623694419   \n",
       "1        1.0           47.0          1.0      1.0674998398517614   \n",
       "3        0.0           17.0          0.0      0.4688594140084578   \n",
       "11      10.0          175.0         13.0      1.1256559175350123   \n",
       "12     107.0          370.0         13.0      1.3103124526101917   \n",
       "14       7.0           18.0          0.0      0.8026861464412467   \n",
       "15       6.0           19.0          0.0      0.4370447868046464   \n",
       "16       0.0            4.0          2.0      0.6495265580840549   \n",
       "17       0.0           12.0          0.0     0.39178280210658645   \n",
       "27       1.0            2.0          0.0     0.19516969927180358   \n",
       "\n",
       "    log_murder_cap  log_rape2_cap     log_Robbery_cap     log_Burglary_cap  \\\n",
       "0              0.0            0.0                 0.0 0.052616028049613725   \n",
       "1              0.0            0.0 0.03820174222566249  0.03820174222566249   \n",
       "3              0.0            0.0                 0.0                  0.0   \n",
       "11             0.0            0.0 0.10946397891982731   0.0999933143261522   \n",
       "12             0.0            0.0 0.07962185639998869  0.46448397619011333   \n",
       "14             0.0            0.0                 0.0  0.29626581614317243   \n",
       "15             0.0            0.0                 0.0  0.12358846143702668   \n",
       "16             0.0            0.0                 0.0                  0.0   \n",
       "17             0.0            0.0                 0.0                  0.0   \n",
       "27             0.0            0.0                 0.0  0.06937593986934125   \n",
       "\n",
       "    log_larceny_theft_cap  log_motor_theft_cap  log_violent_crime_cap  \\\n",
       "0     0.43194377633917447                  0.0                    0.0   \n",
       "1        1.04035376470621  0.03820174222566249     0.0749976519277083   \n",
       "3      0.4688594140084578                  0.0   0.034581592504336775   \n",
       "11     1.0439314252371423  0.12814040187675865    0.11884579086143088   \n",
       "12     1.1132748790471159   0.0693648302222346    0.13904822050172874   \n",
       "14     0.6348290101388586                  0.0                    0.0   \n",
       "15    0.34824220684646506                  0.0   0.021688119661040502   \n",
       "16     0.4760826753221178   0.2661095871976531                    0.0   \n",
       "17    0.39178280210658645                  0.0                    0.0   \n",
       "27    0.13424952550996347                  0.0                    0.0   \n",
       "\n",
       "      log_Population  \n",
       "0  7.523481312573497  \n",
       "1  7.850882664809852  \n",
       "3  7.952263308657046  \n",
       "11 9.159993997539445  \n",
       "12 9.803611967108871  \n",
       "14 7.615791072035833  \n",
       "15   8.4252971767117  \n",
       "16 6.486160788944089  \n",
       "17 7.824845691026856  \n",
       "27 7.238496840894365  "
      ]
     },
     "execution_count": 5,
     "metadata": {},
     "output_type": "execute_result"
    }
   ],
   "source": [
    "def log_columns(df, c_list):\n",
    "    for c in c_list:\n",
    "        df[\"log_\"+c+\"_cap\"] = ((100*df[c]/df[\"Population\"])+1).apply(np.log)\n",
    "    df[\"log_Population\"] = df[\"Population\"].apply(np.log)\n",
    "        \n",
    "c_to_log = (\"property_crime\",\"murder\",\"rape2\", \"Robbery\", \"Burglary\", \"larceny_theft\", \"motor_theft\", \"violent_crime\")\n",
    "\n",
    "log_columns(df1_clean, c_to_log)\n",
    "log_columns(df2_clean, c_to_log)\n",
    "df2_clean.head(10)"
   ]
  },
  {
   "cell_type": "code",
   "execution_count": 6,
   "metadata": {},
   "outputs": [
    {
     "data": {
      "text/plain": [
       "<matplotlib.axes._subplots.AxesSubplot at 0x116b52748>"
      ]
     },
     "execution_count": 6,
     "metadata": {},
     "output_type": "execute_result"
    },
    {
     "data": {
      "image/png": "[encoded data removed]",
      "text/plain": [
       "<Figure size 432x288 with 2 Axes>"
      ]
     },
     "metadata": {},
     "output_type": "display_data"
    }
   ],
   "source": [
    "sns.heatmap(df1_clean.corr())"
   ]
  },
  {
   "cell_type": "code",
   "execution_count": 7,
   "metadata": {},
   "outputs": [],
   "source": [
    "df1_clean[\"int_rap_rob\"] = df1_clean[\"log_Robbery_cap\"] * df1_clean[\"log_rape2_cap\"]\n",
    "df1_clean[\"sqr_log_violent_crime_cap\"] = df1_clean[\"log_violent_crime_cap\"] **2\n",
    "df2_clean[\"int_rap_rob\"] = df2_clean[\"log_Robbery_cap\"] * df2_clean[\"log_rape2_cap\"]\n",
    "df2_clean[\"sqr_log_violent_crime_cap\"] = df2_clean[\"log_violent_crime_cap\"] **2"
   ]
  },
  {
   "cell_type": "code",
   "execution_count": 19,
   "metadata": {},
   "outputs": [
    {
     "name": "stdout",
     "output_type": "stream",
     "text": [
      "Intercept                   0.6816141707983382\n",
      "log_violent_crime_cap        3.301695191730687\n",
      "sqr_log_violent_crime_cap    -2.85658634492444\n",
      "dtype: float64\n",
      "\n",
      "\n",
      "P values:\n",
      " Intercept                    2.039413575505069e-47\n",
      "log_violent_crime_cap       1.3608247849436417e-17\n",
      "sqr_log_violent_crime_cap    1.575949558179062e-07\n",
      "dtype: float64\n",
      "\n",
      "\n",
      "r_squard:\n",
      " 0.3495418102164921\n"
     ]
    }
   ],
   "source": [
    "y = \"log_property_crime_cap\"\n",
    "x = \"log_violent_crime_cap+sqr_log_violent_crime_cap\"\n",
    "\n",
    "linear_formula = y + \" ~ \" + x\n",
    "\n",
    "lm = smf.ols(formula = linear_formula, data = df1_no_zeros).fit()\n",
    "print(lm.params)\n",
    "print(\"\\n\\nP values:\\n\", lm.pvalues)\n",
    "print(\"\\n\\nr_squard:\\n\", lm.rsquared)"
   ]
  },
  {
   "cell_type": "code",
   "execution_count": 20,
   "metadata": {},
   "outputs": [
    {
     "name": "stderr",
     "output_type": "stream",
     "text": [
      "/Library/Frameworks/Python.framework/Versions/3.6/lib/python3.6/site-packages/matplotlib/axes/_axes.py:6462: UserWarning: The 'normed' kwarg is deprecated, and has been replaced by the 'density' kwarg.\n",
      "  warnings.warn(\"The 'normed' kwarg is deprecated, and has been \"\n",
      "/Library/Frameworks/Python.framework/Versions/3.6/lib/python3.6/site-packages/matplotlib/axes/_axes.py:6462: UserWarning: The 'normed' kwarg is deprecated, and has been replaced by the 'density' kwarg.\n",
      "  warnings.warn(\"The 'normed' kwarg is deprecated, and has been \"\n",
      "/Library/Frameworks/Python.framework/Versions/3.6/lib/python3.6/site-packages/matplotlib/axes/_axes.py:6462: UserWarning: The 'normed' kwarg is deprecated, and has been replaced by the 'density' kwarg.\n",
      "  warnings.warn(\"The 'normed' kwarg is deprecated, and has been \"\n",
      "/Library/Frameworks/Python.framework/Versions/3.6/lib/python3.6/site-packages/matplotlib/axes/_axes.py:6462: UserWarning: The 'normed' kwarg is deprecated, and has been replaced by the 'density' kwarg.\n",
      "  warnings.warn(\"The 'normed' kwarg is deprecated, and has been \"\n",
      "/Library/Frameworks/Python.framework/Versions/3.6/lib/python3.6/site-packages/matplotlib/axes/_axes.py:6462: UserWarning: The 'normed' kwarg is deprecated, and has been replaced by the 'density' kwarg.\n",
      "  warnings.warn(\"The 'normed' kwarg is deprecated, and has been \"\n",
      "/Library/Frameworks/Python.framework/Versions/3.6/lib/python3.6/site-packages/matplotlib/axes/_axes.py:6462: UserWarning: The 'normed' kwarg is deprecated, and has been replaced by the 'density' kwarg.\n",
      "  warnings.warn(\"The 'normed' kwarg is deprecated, and has been \"\n",
      "/Library/Frameworks/Python.framework/Versions/3.6/lib/python3.6/site-packages/matplotlib/axes/_axes.py:6462: UserWarning: The 'normed' kwarg is deprecated, and has been replaced by the 'density' kwarg.\n",
      "  warnings.warn(\"The 'normed' kwarg is deprecated, and has been \"\n",
      "/Library/Frameworks/Python.framework/Versions/3.6/lib/python3.6/site-packages/matplotlib/axes/_axes.py:6462: UserWarning: The 'normed' kwarg is deprecated, and has been replaced by the 'density' kwarg.\n",
      "  warnings.warn(\"The 'normed' kwarg is deprecated, and has been \"\n",
      "/Library/Frameworks/Python.framework/Versions/3.6/lib/python3.6/site-packages/matplotlib/axes/_axes.py:6462: UserWarning: The 'normed' kwarg is deprecated, and has been replaced by the 'density' kwarg.\n",
      "  warnings.warn(\"The 'normed' kwarg is deprecated, and has been \"\n",
      "/Library/Frameworks/Python.framework/Versions/3.6/lib/python3.6/site-packages/matplotlib/axes/_axes.py:6462: UserWarning: The 'normed' kwarg is deprecated, and has been replaced by the 'density' kwarg.\n",
      "  warnings.warn(\"The 'normed' kwarg is deprecated, and has been \"\n",
      "/Library/Frameworks/Python.framework/Versions/3.6/lib/python3.6/site-packages/matplotlib/axes/_axes.py:6462: UserWarning: The 'normed' kwarg is deprecated, and has been replaced by the 'density' kwarg.\n",
      "  warnings.warn(\"The 'normed' kwarg is deprecated, and has been \"\n",
      "/Library/Frameworks/Python.framework/Versions/3.6/lib/python3.6/site-packages/matplotlib/axes/_axes.py:6462: UserWarning: The 'normed' kwarg is deprecated, and has been replaced by the 'density' kwarg.\n",
      "  warnings.warn(\"The 'normed' kwarg is deprecated, and has been \"\n"
     ]
    },
    {
     "data": {
      "image/png": "[encoded data removed]",
      "text/plain": [
       "<Figure size 432x432 with 3 Axes>"
      ]
     },
     "metadata": {},
     "output_type": "display_data"
    },
    {
     "data": {
      "image/png": "[encoded data removed]",
      "text/plain": [
       "<Figure size 432x432 with 3 Axes>"
      ]
     },
     "metadata": {},
     "output_type": "display_data"
    },
    {
     "data": {
      "image/png": "[encoded data removed]",
      "text/plain": [
       "<Figure size 432x432 with 3 Axes>"
      ]
     },
     "metadata": {},
     "output_type": "display_data"
    },
    {
     "data": {
      "image/png": "[encoded data removed]",
      "text/plain": [
       "<Figure size 432x432 with 3 Axes>"
      ]
     },
     "metadata": {},
     "output_type": "display_data"
    },
    {
     "data": {
      "image/png": "[encoded data removed]",
      "text/plain": [
       "<Figure size 432x432 with 3 Axes>"
      ]
     },
     "metadata": {},
     "output_type": "display_data"
    },
    {
     "data": {
      "image/png": "[encoded data removed]",
      "text/plain": [
       "<Figure size 432x432 with 3 Axes>"
      ]
     },
     "metadata": {},
     "output_type": "display_data"
    }
   ],
   "source": [
    "y = \"log_property_crime_cap\"\n",
    "x1 = [\"log_Population\",\"log_murder_cap\",\"log_Robbery_cap\", \"log_rape2_cap\", \"int_rap_rob\", \"log_violent_crime_cap\"]\n",
    "\n",
    "for x in x1:\n",
    "    sns.jointplot(x=x, y=y, data=df2_no_zeros);"
   ]
  },
  {
   "cell_type": "code",
   "execution_count": 21,
   "metadata": {},
   "outputs": [
    {
     "name": "stdout",
     "output_type": "stream",
     "text": [
      "Coefficients: \n",
      " [ 3.30169519 -2.85658634]\n",
      "Intercept: \n",
      " 0.6816141707983369\n",
      "\n",
      "\n",
      "Scores: [0.45387616 0.16720879 0.37226894 0.09404501 0.45755405 0.29905739\n",
      " 0.28650926 0.33790832 0.4738558  0.05812588]\n",
      "Mean: 0.3000409585030961\n",
      "Standard deviation: 0.14287188397517414\n"
     ]
    },
    {
     "name": "stderr",
     "output_type": "stream",
     "text": [
      "/Library/Frameworks/Python.framework/Versions/3.6/lib/python3.6/site-packages/sklearn/linear_model/base.py:509: RuntimeWarning: internal gelsd driver lwork query error, required iwork dimension not returned. This is likely the result of LAPACK bug 0038, fixed in LAPACK 3.2.2 (released July 21, 2010). Falling back to 'gelss' driver.\n",
      "  linalg.lstsq(X, y)\n"
     ]
    }
   ],
   "source": [
    "regr = linear_model.LinearRegression()\n",
    "x1 = [\"log_violent_crime_cap\",\"sqr_log_violent_crime_cap\"]\n",
    "# Fit our model to our data.\n",
    "regr.fit(df1_no_zeros[x1], df1_no_zeros[y])\n",
    "\n",
    "# Display the attributes we calculated.\n",
    "print('Coefficients: \\n', regr.coef_)\n",
    "print('Intercept: \\n', regr.intercept_)\n",
    "\n",
    "from sklearn.model_selection import cross_val_score\n",
    "scores = cross_val_score(regr, df1_no_zeros[x1], df1_no_zeros[y],  cv=10)\n",
    "r_scores = np.sqrt(scores)\n",
    "\n",
    "def display_scores(scores):\n",
    "    print(\"\\n\\nScores:\", scores)\n",
    "    print(\"Mean:\", scores.mean())\n",
    "    print(\"Standard deviation:\", scores.std())\n",
    "display_scores(scores)"
   ]
  },
  {
   "cell_type": "code",
   "execution_count": 22,
   "metadata": {},
   "outputs": [
    {
     "name": "stdout",
     "output_type": "stream",
     "text": [
      "Intercept                   0.42512499516741753\n",
      "log_violent_crime_cap         4.643721562311914\n",
      "sqr_log_violent_crime_cap    -5.049886380301045\n",
      "dtype: float64\n",
      "\n",
      "\n",
      "P values:\n",
      " Intercept                   9.062915556630721e-10\n",
      "log_violent_crime_cap       8.704174284723754e-08\n",
      "sqr_log_violent_crime_cap    0.001386759959894147\n",
      "dtype: float64\n",
      "\n",
      "\n",
      "r_squard:\n",
      " 0.41231282520407486\n"
     ]
    }
   ],
   "source": [
    "lm1 = smf.ols(formula = linear_formula, data = df2_no_zeros).fit()\n",
    "print(lm1.params)\n",
    "print(\"\\n\\nP values:\\n\", lm1.pvalues)\n",
    "print(\"\\n\\nr_squard:\\n\", lm1.rsquared)"
   ]
  },
  {
   "cell_type": "code",
   "execution_count": 23,
   "metadata": {},
   "outputs": [
    {
     "data": {
      "text/plain": [
       "348"
      ]
     },
     "execution_count": 23,
     "metadata": {},
     "output_type": "execute_result"
    }
   ],
   "source": [
    "len(df1_clean)"
   ]
  },
  {
   "cell_type": "code",
   "execution_count": 24,
   "metadata": {},
   "outputs": [
    {
     "name": "stdout",
     "output_type": "stream",
     "text": [
      "Coefficients: \n",
      " [ 4.64372156 -5.04988638]\n",
      "Intercept: \n",
      " 0.42512499516741775\n",
      "\n",
      "\n",
      "Scores: [0.10750978 0.30868956 0.40890821 0.34311013 0.47107845]\n",
      "Mean: 0.3278592264509052\n",
      "Standard deviation: 0.12347844392453784\n"
     ]
    }
   ],
   "source": [
    "regr1 = linear_model.LinearRegression()\n",
    "x1 = [\"log_violent_crime_cap\",\"sqr_log_violent_crime_cap\"]\n",
    "# Fit our model to our data.\n",
    "regr1.fit(df2_no_zeros[x1], df2_no_zeros[y])\n",
    "\n",
    "# Display the attributes we calculated.\n",
    "print('Coefficients: \\n', regr1.coef_)\n",
    "print('Intercept: \\n', regr1.intercept_)\n",
    "\n",
    "from sklearn.model_selection import cross_val_score\n",
    "scores1 = cross_val_score(regr, df2_no_zeros[x1], df2_no_zeros[y],  cv=5)\n",
    "r_scores = np.sqrt(scores)\n",
    "\n",
    "def display_scores(scores):\n",
    "    print(\"\\n\\nScores:\", scores)\n",
    "    print(\"Mean:\", scores.mean())\n",
    "    print(\"Standard deviation:\", scores.std())\n",
    "display_scores(scores1)"
   ]
  },
  {
   "cell_type": "markdown",
   "metadata": {},
   "source": []
  },
  {
   "cell_type": "code",
   "execution_count": 17,
   "metadata": {},
   "outputs": [],
   "source": [
    "df1_no_zeros = df1_clean.ix[(df1_clean['log_violent_crime_cap'] != 0) & (df1_clean['log_property_crime_cap'] != 0)]\n",
    "df2_no_zeros = df2_clean.ix[(df2_clean['log_violent_crime_cap'] != 0) & (df2_clean['log_property_crime_cap'] != 0)]\n"
   ]
  },
  {
   "cell_type": "code",
   "execution_count": 25,
   "metadata": {},
   "outputs": [
    {
     "ename": "ValueError",
     "evalue": "Invalid number of components: 3",
     "output_type": "error",
     "traceback": [
      "\u001b[0;31m---------------------------------------------------------------------------\u001b[0m",
      "\u001b[0;31mValueError\u001b[0m                                Traceback (most recent call last)",
      "\u001b[0;32m<ipython-input-25-2aa44b531f73>\u001b[0m in \u001b[0;36m<module>\u001b[0;34m()\u001b[0m\n\u001b[1;32m      6\u001b[0m \u001b[0;34m\u001b[0m\u001b[0m\n\u001b[1;32m      7\u001b[0m \u001b[0;31m# Reduce X to R(X) and regress on y.\u001b[0m\u001b[0;34m\u001b[0m\u001b[0;34m\u001b[0m\u001b[0m\n\u001b[0;32m----> 8\u001b[0;31m \u001b[0mpls1\u001b[0m\u001b[0;34m.\u001b[0m\u001b[0mfit\u001b[0m\u001b[0;34m(\u001b[0m\u001b[0mdf1_clean\u001b[0m\u001b[0;34m[\u001b[0m\u001b[0mx1\u001b[0m\u001b[0;34m]\u001b[0m\u001b[0;34m,\u001b[0m \u001b[0mdf1_clean\u001b[0m\u001b[0;34m[\u001b[0m\u001b[0my\u001b[0m\u001b[0;34m]\u001b[0m\u001b[0;34m)\u001b[0m\u001b[0;34m\u001b[0m\u001b[0m\n\u001b[0m\u001b[1;32m      9\u001b[0m \u001b[0;34m\u001b[0m\u001b[0m\n\u001b[1;32m     10\u001b[0m \u001b[0;31m# Save predicted values.\u001b[0m\u001b[0;34m\u001b[0m\u001b[0;34m\u001b[0m\u001b[0m\n",
      "\u001b[0;32m/Library/Frameworks/Python.framework/Versions/3.6/lib/python3.6/site-packages/sklearn/cross_decomposition/pls_.py\u001b[0m in \u001b[0;36mfit\u001b[0;34m(self, X, Y)\u001b[0m\n\u001b[1;32m    257\u001b[0m         \u001b[0;32mif\u001b[0m \u001b[0mself\u001b[0m\u001b[0;34m.\u001b[0m\u001b[0mn_components\u001b[0m \u001b[0;34m<\u001b[0m \u001b[0;36m1\u001b[0m \u001b[0;32mor\u001b[0m \u001b[0mself\u001b[0m\u001b[0;34m.\u001b[0m\u001b[0mn_components\u001b[0m \u001b[0;34m>\u001b[0m \u001b[0mp\u001b[0m\u001b[0;34m:\u001b[0m\u001b[0;34m\u001b[0m\u001b[0m\n\u001b[1;32m    258\u001b[0m             raise ValueError('Invalid number of components: %d' %\n\u001b[0;32m--> 259\u001b[0;31m                              self.n_components)\n\u001b[0m\u001b[1;32m    260\u001b[0m         \u001b[0;32mif\u001b[0m \u001b[0mself\u001b[0m\u001b[0;34m.\u001b[0m\u001b[0malgorithm\u001b[0m \u001b[0;32mnot\u001b[0m \u001b[0;32min\u001b[0m \u001b[0;34m(\u001b[0m\u001b[0;34m\"svd\"\u001b[0m\u001b[0;34m,\u001b[0m \u001b[0;34m\"nipals\"\u001b[0m\u001b[0;34m)\u001b[0m\u001b[0;34m:\u001b[0m\u001b[0;34m\u001b[0m\u001b[0m\n\u001b[1;32m    261\u001b[0m             raise ValueError(\"Got algorithm %s when only 'svd' \"\n",
      "\u001b[0;31mValueError\u001b[0m: Invalid number of components: 3"
     ]
    }
   ],
   "source": [
    "from sklearn.cross_decomposition import PLSRegression\n",
    "\n",
    "# Fit a linear model using Partial Least Squares Regression.\n",
    "# Reduce feature space to 3 dimensions.\n",
    "pls1 = PLSRegression(n_components=3)\n",
    "\n",
    "# Reduce X to R(X) and regress on y.\n",
    "pls1.fit(df1_clean[x1], df1_clean[y])\n",
    "\n",
    "# Save predicted values.\n",
    "Y_PLS_pred = pls1.predict(df1_clean[x1])\n",
    "print('R-squared PLSR:', pls1.score(df1_clean[x1], df1_clean[y]))\n",
    "\n",
    "# Compare the predictions of the two models\n",
    "plt.scatter(Y_pred,Y_PLS_pred) \n",
    "plt.xlabel('Predicted by original 10 features')\n",
    "plt.ylabel('Predicted by 3 features')\n",
    "plt.title('Comparing LR and PLSR predictions')\n",
    "plt.show()"
   ]
  },
  {
   "cell_type": "code",
   "execution_count": null,
   "metadata": {},
   "outputs": [],
   "source": []
  },
  {
   "cell_type": "code",
   "execution_count": null,
   "metadata": {},
   "outputs": [],
   "source": []
  },
  {
   "cell_type": "code",
   "execution_count": null,
   "metadata": {},
   "outputs": [],
   "source": []
  },
  {
   "cell_type": "code",
   "execution_count": null,
   "metadata": {},
   "outputs": [],
   "source": []
  },
  {
   "cell_type": "code",
   "execution_count": null,
   "metadata": {},
   "outputs": [],
   "source": []
  },
  {
   "cell_type": "code",
   "execution_count": null,
   "metadata": {},
   "outputs": [],
   "source": [
    "#sns.heatmap(df2_clean.corr())"
   ]
  }
 ],
 "metadata": {
  "kernelspec": {
   "display_name": "Python 3",
   "language": "python",
   "name": "python3"
  },
  "language_info": {
   "codemirror_mode": {
    "name": "ipython",
    "version": 3
   },
   "file_extension": ".py",
   "mimetype": "text/x-python",
   "name": "python",
   "nbconvert_exporter": "python",
   "pygments_lexer": "ipython3",
   "version": "3.6.5"
  }
 },
 "nbformat": 4,
 "nbformat_minor": 2
}
