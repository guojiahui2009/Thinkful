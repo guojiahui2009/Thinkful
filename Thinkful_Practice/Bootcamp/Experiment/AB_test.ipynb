{
 "cells": [
  {
   "cell_type": "markdown",
   "metadata": {},
   "source": [
    "For each of the following questions, outline how you could use an A/B test to find an answer. Be sure to identify all five key components of an A/B test we outlined above."
   ]
  },
  {
   "cell_type": "markdown",
   "metadata": {},
   "source": [
    "# Does a new supplement help people sleep better?"
   ]
  },
  {
   "cell_type": "markdown",
   "metadata": {},
   "source": [
    "two versions:\n",
    "    one groups receives the supplement at random, while the other doesn't..\n",
    "\n",
    "sample:\n",
    "    participants of the same sleeping technique study?\n",
    "        unknowingly provide one group with the supplement to avoid placebo effect..\n",
    "\n",
    "hypothesis:\n",
    "    the new supplement will help people sleep better\n",
    "\n",
    "outcome:\n",
    "    length of sleep, light/medium/heavy\n",
    "\n",
    "other measured variables:\n",
    "    physical activities, other intake"
   ]
  },
  {
   "cell_type": "code",
   "execution_count": null,
   "metadata": {},
   "outputs": [],
   "source": []
  },
  {
   "cell_type": "markdown",
   "metadata": {},
   "source": [
    "# Will a new homepage improve my online exotic pet rental business?"
   ]
  },
  {
   "cell_type": "markdown",
   "metadata": {},
   "source": [
    "two versions:\n",
    "    one group is led to the old site, while the other is led to the new site\n",
    "\n",
    "sample:\n",
    "    randomly directing users to either website using the same marketing methods and links...\n",
    "       \n",
    "hypothesis:\n",
    "    the new website will improve business\n",
    "\n",
    "outcome:\n",
    "    more bookings are made in the new website than the old one\n",
    "\n",
    "other measured variables:\n",
    "    metadata of clicks, time spent on the site"
   ]
  },
  {
   "cell_type": "code",
   "execution_count": null,
   "metadata": {},
   "outputs": [],
   "source": []
  },
  {
   "cell_type": "markdown",
   "metadata": {},
   "source": [
    "# Will new uniforms help a gym's business?"
   ]
  },
  {
   "cell_type": "markdown",
   "metadata": {},
   "source": [
    "two versions:\n",
    "\n",
    "\n",
    "sample:\n",
    "\n",
    "\n",
    "jypothesis:\n",
    "\n",
    "\n",
    "outcome:\n",
    "\n",
    "\n",
    "other measured variables:"
   ]
  },
  {
   "cell_type": "code",
   "execution_count": null,
   "metadata": {},
   "outputs": [],
   "source": []
  },
  {
   "cell_type": "markdown",
   "metadata": {},
   "source": [
    "# If I put 'please read' in the email subject will more people read my emails?"
   ]
  },
  {
   "cell_type": "markdown",
   "metadata": {},
   "source": [
    "two versions:\n",
    "    one receives emails with Please Read, while the other group does not\n",
    "\n",
    "sample:\n",
    "    the same email content sent to a general group, in which half are randomly chosen to receives ones with please read\n",
    "\n",
    "hypothesis:\n",
    "    please read message will help make more people read my emails. \n",
    "\n",
    "outcome:\n",
    "    (doubt this is how emails work tho...) more opening clicks on the email as well as more time spent on reading\n",
    "\n",
    "other measured variables:\n",
    "    metadata, clicks to open, close"
   ]
  },
  {
   "cell_type": "code",
   "execution_count": null,
   "metadata": {},
   "outputs": [],
   "source": []
  },
  {
   "cell_type": "code",
   "execution_count": null,
   "metadata": {},
   "outputs": [],
   "source": []
  }
 ],
 "metadata": {
  "kernelspec": {
   "display_name": "Python 3",
   "language": "python",
   "name": "python3"
  },
  "language_info": {
   "codemirror_mode": {
    "name": "ipython",
    "version": 3
   },
   "file_extension": ".py",
   "mimetype": "text/x-python",
   "name": "python",
   "nbconvert_exporter": "python",
   "pygments_lexer": "ipython3",
   "version": "3.6.5"
  }
 },
 "nbformat": 4,
 "nbformat_minor": 2
}
