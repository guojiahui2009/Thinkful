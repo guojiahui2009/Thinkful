{
 "cells": [
  {
   "cell_type": "markdown",
   "metadata": {},
   "source": [
    "# The problem\n",
    "This is where you define the question or problem, justify why the problem should be studied, and review what we already know about the problem. For example:"
   ]
  },
  {
   "cell_type": "markdown",
   "metadata": {},
   "source": [
    "    problem: what tennis strings to use for more control?"
   ]
  },
  {
   "cell_type": "markdown",
   "metadata": {},
   "source": [
    "    explaination: In tennis, control comes from the ability to generate spin on the ball through contact with the strings, different types of strings perform differnetly in generating RPM. It's important for players to be able to use to the right type of stirngs that best suits their playing style. It's also helpful for producers to market the specs to the right target. "
   ]
  },
  {
   "cell_type": "markdown",
   "metadata": {},
   "source": [
    "# The potential solution\n",
    "Here you propose a hypothesis (potential explanation) to be tested. For example:"
   ]
  },
  {
   "cell_type": "markdown",
   "metadata": {},
   "source": [
    "    adding polygonal shapes to tennis strings will help increase rpm on the same strokes. "
   ]
  },
  {
   "cell_type": "markdown",
   "metadata": {},
   "source": [
    "# The method of testing the solution\n",
    "Describe the design of the experiment, the analysis plan, and set benchmarks:"
   ]
  },
  {
   "cell_type": "markdown",
   "metadata": {},
   "source": [
    "String two of the same rackets with two versions of the same string, one with the tradtitional rounded shapes, one with shaped corners, at the same tension. With the aid of ball feeding machines, have a group of players perform their regular strokes for an hour on forehand and backhands,serves, and slices. measure the average rmp as well as mph of their balls. also record their strokes with different strings to ensure that their stroke did not vary across the two tests. \n",
    "\n",
    "we will then compute the\n",
    "\n"
   ]
  }
 ],
 "metadata": {
  "kernelspec": {
   "display_name": "Python 3",
   "language": "python",
   "name": "python3"
  },
  "language_info": {
   "codemirror_mode": {
    "name": "ipython",
    "version": 3
   },
   "file_extension": ".py",
   "mimetype": "text/x-python",
   "name": "python",
   "nbconvert_exporter": "python",
   "pygments_lexer": "ipython3",
   "version": "3.6.5"
  }
 },
 "nbformat": 4,
 "nbformat_minor": 2
}
