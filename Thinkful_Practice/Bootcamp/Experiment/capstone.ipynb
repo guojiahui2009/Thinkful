{
 "cells": [
  {
   "cell_type": "markdown",
   "metadata": {},
   "source": [
    "# Stop Sign Violations\n",
    "traffic violations are no joke since many lives can be lost to reckless and careless driving. One thing in particular is that of running stop signs. Stop signs are purposefully placed in areas where pedestrians and oncoming traffic might be difficult to spot prior to entering an intersection, therefore, it is important to actually make the stop. Some complaint and question the placement of the actual signs in certain areas which makes them difficult to spot, therefore we hereby propose an experiment to test the potential effect of placing warning signs prior to an stop sign on driving behavior. "
   ]
  },
  {
   "cell_type": "markdown",
   "metadata": {},
   "source": []
  },
  {
   "cell_type": "markdown",
   "metadata": {},
   "source": []
  },
  {
   "cell_type": "markdown",
   "metadata": {},
   "source": [
    "data acquired from https://www.kaggle.com/rounak041993/traffic-violations-in-maryland-county"
   ]
  },
  {
   "cell_type": "code",
   "execution_count": 2,
   "metadata": {},
   "outputs": [],
   "source": [
    "import pandas as pd\n",
    "import numpy as np\n",
    "import seaborn as sns\n",
    "from matplotlib import pyplot as plt\n",
    "from scipy import stats"
   ]
  },
  {
   "cell_type": "code",
   "execution_count": 3,
   "metadata": {},
   "outputs": [
    {
     "name": "stderr",
     "output_type": "stream",
     "text": [
      "/Library/Frameworks/Python.framework/Versions/3.6/lib/python3.6/site-packages/IPython/core/interactiveshell.py:2785: DtypeWarning: Columns (26) have mixed types. Specify dtype option on import or set low_memory=False.\n",
      "  interactivity=interactivity, compiler=compiler, result=result)\n"
     ]
    },
    {
     "data": {
      "text/html": [
       "<div>\n",
       "<style scoped>\n",
       "    .dataframe tbody tr th:only-of-type {\n",
       "        vertical-align: middle;\n",
       "    }\n",
       "\n",
       "    .dataframe tbody tr th {\n",
       "        vertical-align: top;\n",
       "    }\n",
       "\n",
       "    .dataframe thead th {\n",
       "        text-align: right;\n",
       "    }\n",
       "</style>\n",
       "<table border=\"1\" class=\"dataframe\">\n",
       "  <thead>\n",
       "    <tr style=\"text-align: right;\">\n",
       "      <th></th>\n",
       "      <th>Date Of Stop</th>\n",
       "      <th>Time Of Stop</th>\n",
       "      <th>Agency</th>\n",
       "      <th>SubAgency</th>\n",
       "      <th>Description</th>\n",
       "      <th>Location</th>\n",
       "      <th>Latitude</th>\n",
       "      <th>Longitude</th>\n",
       "      <th>Accident</th>\n",
       "      <th>Belts</th>\n",
       "      <th>...</th>\n",
       "      <th>Article</th>\n",
       "      <th>Contributed To Accident</th>\n",
       "      <th>Race</th>\n",
       "      <th>Gender</th>\n",
       "      <th>Driver City</th>\n",
       "      <th>Driver State</th>\n",
       "      <th>DL State</th>\n",
       "      <th>Arrest Type</th>\n",
       "      <th>Geolocation</th>\n",
       "      <th>Month</th>\n",
       "    </tr>\n",
       "  </thead>\n",
       "  <tbody>\n",
       "    <tr>\n",
       "      <th>0</th>\n",
       "      <td>09/24/2013</td>\n",
       "      <td>17:11:00</td>\n",
       "      <td>MCP</td>\n",
       "      <td>3rd district, Silver Spring</td>\n",
       "      <td>DRIVING VEHICLE ON HIGHWAY WITH SUSPENDED REGI...</td>\n",
       "      <td>8804 FLOWER AVE</td>\n",
       "      <td>NaN</td>\n",
       "      <td>NaN</td>\n",
       "      <td>No</td>\n",
       "      <td>No</td>\n",
       "      <td>...</td>\n",
       "      <td>Transportation Article</td>\n",
       "      <td>No</td>\n",
       "      <td>BLACK</td>\n",
       "      <td>M</td>\n",
       "      <td>TAKOMA PARK</td>\n",
       "      <td>MD</td>\n",
       "      <td>MD</td>\n",
       "      <td>A - Marked Patrol</td>\n",
       "      <td>NaN</td>\n",
       "      <td>9</td>\n",
       "    </tr>\n",
       "    <tr>\n",
       "      <th>1</th>\n",
       "      <td>08/29/2017</td>\n",
       "      <td>10:19:00</td>\n",
       "      <td>MCP</td>\n",
       "      <td>2nd district, Bethesda</td>\n",
       "      <td>DRIVER FAILURE TO OBEY PROPERLY PLACED TRAFFIC...</td>\n",
       "      <td>WISCONSIN AVE@ ELM ST</td>\n",
       "      <td>38.981725</td>\n",
       "      <td>-77.092757</td>\n",
       "      <td>No</td>\n",
       "      <td>No</td>\n",
       "      <td>...</td>\n",
       "      <td>Transportation Article</td>\n",
       "      <td>No</td>\n",
       "      <td>WHITE</td>\n",
       "      <td>F</td>\n",
       "      <td>FAIRFAX STATION</td>\n",
       "      <td>VA</td>\n",
       "      <td>VA</td>\n",
       "      <td>A - Marked Patrol</td>\n",
       "      <td>(38.981725, -77.0927566666667)</td>\n",
       "      <td>8</td>\n",
       "    </tr>\n",
       "    <tr>\n",
       "      <th>2</th>\n",
       "      <td>12/01/2014</td>\n",
       "      <td>12:52:00</td>\n",
       "      <td>MCP</td>\n",
       "      <td>6th district, Gaithersburg / Montgomery Village</td>\n",
       "      <td>FAILURE STOP AND YIELD AT THRU HWY</td>\n",
       "      <td>CHRISTOPHER AVE/MONTGOMERY VILLAGE AVE</td>\n",
       "      <td>39.162888</td>\n",
       "      <td>-77.229088</td>\n",
       "      <td>No</td>\n",
       "      <td>No</td>\n",
       "      <td>...</td>\n",
       "      <td>Transportation Article</td>\n",
       "      <td>No</td>\n",
       "      <td>BLACK</td>\n",
       "      <td>F</td>\n",
       "      <td>UPPER MARLBORO</td>\n",
       "      <td>MD</td>\n",
       "      <td>MD</td>\n",
       "      <td>A - Marked Patrol</td>\n",
       "      <td>(39.1628883333333, -77.2290883333333)</td>\n",
       "      <td>12</td>\n",
       "    </tr>\n",
       "    <tr>\n",
       "      <th>3</th>\n",
       "      <td>08/29/2017</td>\n",
       "      <td>09:22:00</td>\n",
       "      <td>MCP</td>\n",
       "      <td>3rd district, Silver Spring</td>\n",
       "      <td>FAILURE YIELD RIGHT OF WAY ON U TURN</td>\n",
       "      <td>CHERRY HILL RD./CALVERTON BLVD.</td>\n",
       "      <td>39.056975</td>\n",
       "      <td>-76.954633</td>\n",
       "      <td>No</td>\n",
       "      <td>No</td>\n",
       "      <td>...</td>\n",
       "      <td>Transportation Article</td>\n",
       "      <td>No</td>\n",
       "      <td>BLACK</td>\n",
       "      <td>M</td>\n",
       "      <td>FORT WASHINGTON</td>\n",
       "      <td>MD</td>\n",
       "      <td>MD</td>\n",
       "      <td>A - Marked Patrol</td>\n",
       "      <td>(39.056975, -76.9546333333333)</td>\n",
       "      <td>8</td>\n",
       "    </tr>\n",
       "    <tr>\n",
       "      <th>4</th>\n",
       "      <td>08/28/2017</td>\n",
       "      <td>23:41:00</td>\n",
       "      <td>MCP</td>\n",
       "      <td>6th district, Gaithersburg / Montgomery Village</td>\n",
       "      <td>FAILURE OF DR. TO MAKE LANE CHANGE TO AVAIL. L...</td>\n",
       "      <td>355 @ SOUTH WESTLAND DRIVE</td>\n",
       "      <td>NaN</td>\n",
       "      <td>NaN</td>\n",
       "      <td>No</td>\n",
       "      <td>No</td>\n",
       "      <td>...</td>\n",
       "      <td>Transportation Article</td>\n",
       "      <td>No</td>\n",
       "      <td>WHITE</td>\n",
       "      <td>M</td>\n",
       "      <td>GAITHERSBURG</td>\n",
       "      <td>MD</td>\n",
       "      <td>MD</td>\n",
       "      <td>A - Marked Patrol</td>\n",
       "      <td>NaN</td>\n",
       "      <td>8</td>\n",
       "    </tr>\n",
       "  </tbody>\n",
       "</table>\n",
       "<p>5 rows × 36 columns</p>\n",
       "</div>"
      ],
      "text/plain": [
       "  Date Of Stop Time Of Stop Agency  \\\n",
       "0   09/24/2013     17:11:00    MCP   \n",
       "1   08/29/2017     10:19:00    MCP   \n",
       "2   12/01/2014     12:52:00    MCP   \n",
       "3   08/29/2017     09:22:00    MCP   \n",
       "4   08/28/2017     23:41:00    MCP   \n",
       "\n",
       "                                         SubAgency  \\\n",
       "0                      3rd district, Silver Spring   \n",
       "1                           2nd district, Bethesda   \n",
       "2  6th district, Gaithersburg / Montgomery Village   \n",
       "3                      3rd district, Silver Spring   \n",
       "4  6th district, Gaithersburg / Montgomery Village   \n",
       "\n",
       "                                         Description  \\\n",
       "0  DRIVING VEHICLE ON HIGHWAY WITH SUSPENDED REGI...   \n",
       "1  DRIVER FAILURE TO OBEY PROPERLY PLACED TRAFFIC...   \n",
       "2                 FAILURE STOP AND YIELD AT THRU HWY   \n",
       "3               FAILURE YIELD RIGHT OF WAY ON U TURN   \n",
       "4  FAILURE OF DR. TO MAKE LANE CHANGE TO AVAIL. L...   \n",
       "\n",
       "                                 Location   Latitude  Longitude Accident  \\\n",
       "0                         8804 FLOWER AVE        NaN        NaN       No   \n",
       "1                   WISCONSIN AVE@ ELM ST  38.981725 -77.092757       No   \n",
       "2  CHRISTOPHER AVE/MONTGOMERY VILLAGE AVE  39.162888 -77.229088       No   \n",
       "3         CHERRY HILL RD./CALVERTON BLVD.  39.056975 -76.954633       No   \n",
       "4              355 @ SOUTH WESTLAND DRIVE        NaN        NaN       No   \n",
       "\n",
       "  Belts  ...                  Article Contributed To Accident   Race Gender  \\\n",
       "0    No  ...   Transportation Article                      No  BLACK      M   \n",
       "1    No  ...   Transportation Article                      No  WHITE      F   \n",
       "2    No  ...   Transportation Article                      No  BLACK      F   \n",
       "3    No  ...   Transportation Article                      No  BLACK      M   \n",
       "4    No  ...   Transportation Article                      No  WHITE      M   \n",
       "\n",
       "       Driver City Driver State DL State        Arrest Type  \\\n",
       "0      TAKOMA PARK           MD       MD  A - Marked Patrol   \n",
       "1  FAIRFAX STATION           VA       VA  A - Marked Patrol   \n",
       "2   UPPER MARLBORO           MD       MD  A - Marked Patrol   \n",
       "3  FORT WASHINGTON           MD       MD  A - Marked Patrol   \n",
       "4     GAITHERSBURG           MD       MD  A - Marked Patrol   \n",
       "\n",
       "                             Geolocation Month  \n",
       "0                                    NaN     9  \n",
       "1         (38.981725, -77.0927566666667)     8  \n",
       "2  (39.1628883333333, -77.2290883333333)    12  \n",
       "3         (39.056975, -76.9546333333333)     8  \n",
       "4                                    NaN     8  \n",
       "\n",
       "[5 rows x 36 columns]"
      ]
     },
     "execution_count": 3,
     "metadata": {},
     "output_type": "execute_result"
    }
   ],
   "source": [
    "df = pd.DataFrame(pd.read_csv(\"Traffic_Violations.csv\"))\n",
    "\n",
    "dates = df[\"Date Of Stop\"]\n",
    "year = []\n",
    "month = []\n",
    "for date in dates:\n",
    "    mylist = date.split(\"/\")\n",
    "    year.append(int(mylist[2]))\n",
    "    month.append(int(mylist[0]))\n",
    "df[\"Year\"] = year\n",
    "df[\"Month\"] = month\n",
    "\n",
    "df.head()"
   ]
  },
  {
   "cell_type": "code",
   "execution_count": 19,
   "metadata": {},
   "outputs": [
    {
     "data": {
      "text/plain": [
       "42995"
      ]
     },
     "execution_count": 19,
     "metadata": {},
     "output_type": "execute_result"
    }
   ],
   "source": [
    "df1 = df[df[\"Description\"].str.contains(\"STOP SIGN\")==1]\n",
    "len(df1)"
   ]
  },
  {
   "cell_type": "code",
   "execution_count": 5,
   "metadata": {},
   "outputs": [
    {
     "name": "stdout",
     "output_type": "stream",
     "text": [
      "count        6.000000\n",
      "mean      7165.833333\n",
      "std       6835.491801\n",
      "min        128.000000\n",
      "25%       3071.000000\n",
      "50%       5676.000000\n",
      "75%       8838.250000\n",
      "max      19420.000000\n",
      "dtype: float64\n"
     ]
    },
    {
     "data": {
      "text/plain": [
       "<matplotlib.axes._subplots.AxesSubplot at 0x1187f6160>"
      ]
     },
     "execution_count": 5,
     "metadata": {},
     "output_type": "execute_result"
    },
    {
     "data": {
      "image/png": "[encoded data removed]",
      "text/plain": [
       "<Figure size 432x288 with 1 Axes>"
      ]
     },
     "metadata": {},
     "output_type": "display_data"
    }
   ],
   "source": [
    "#plot stop sign violations by race\n",
    "print(df1.groupby(\"Race\").size().describe())\n",
    "sns.countplot(df1[\"Race\"], color = \"grey\")"
   ]
  },
  {
   "cell_type": "code",
   "execution_count": 6,
   "metadata": {},
   "outputs": [
    {
     "name": "stdout",
     "output_type": "stream",
     "text": [
      "count    2301.000000\n",
      "mean       18.685354\n",
      "std         9.841045\n",
      "min         1.000000\n",
      "25%        12.000000\n",
      "50%        17.000000\n",
      "75%        24.000000\n",
      "max        72.000000\n",
      "dtype: float64\n"
     ]
    }
   ],
   "source": [
    "# summary of daily stops\n",
    "print(df1.groupby(\"Date Of Stop\").size().describe())"
   ]
  },
  {
   "cell_type": "code",
   "execution_count": null,
   "metadata": {},
   "outputs": [],
   "source": [
    "# process locaito"
   ]
  },
  {
   "cell_type": "code",
   "execution_count": null,
   "metadata": {},
   "outputs": [],
   "source": []
  },
  {
   "cell_type": "code",
   "execution_count": null,
   "metadata": {},
   "outputs": [],
   "source": []
  },
  {
   "cell_type": "code",
   "execution_count": 9,
   "metadata": {},
   "outputs": [],
   "source": [
    "# stops by time "
   ]
  },
  {
   "cell_type": "code",
   "execution_count": 69,
   "metadata": {},
   "outputs": [
    {
     "name": "stderr",
     "output_type": "stream",
     "text": [
      "/Library/Frameworks/Python.framework/Versions/3.6/lib/python3.6/site-packages/ipykernel_launcher.py:12: SettingWithCopyWarning: \n",
      "A value is trying to be set on a copy of a slice from a DataFrame.\n",
      "Try using .loc[row_indexer,col_indexer] = value instead\n",
      "\n",
      "See the caveats in the documentation: http://pandas.pydata.org/pandas-docs/stable/indexing.html#indexing-view-versus-copy\n",
      "  if sys.path[0] == '':\n",
      "/Library/Frameworks/Python.framework/Versions/3.6/lib/python3.6/site-packages/ipykernel_launcher.py:13: SettingWithCopyWarning: \n",
      "A value is trying to be set on a copy of a slice from a DataFrame.\n",
      "Try using .loc[row_indexer,col_indexer] = value instead\n",
      "\n",
      "See the caveats in the documentation: http://pandas.pydata.org/pandas-docs/stable/indexing.html#indexing-view-versus-copy\n",
      "  del sys.path[0]\n"
     ]
    }
   ],
   "source": [
    "import datetime as dt\n",
    "\n",
    "times = df1[\"Time Of Stop\"]\n",
    "t = []\n",
    "h = []\n",
    "\n",
    "for time in times:\n",
    "    values = time.split(\":\")\n",
    "    t.append(dt.time(int(values[0]), int(values[1]), int(values[2])))\n",
    "    h.append(int(values[0]))\n",
    "    \n",
    "df1[\"Time\"] = t\n",
    "df1[\"Hour\"] = h\n"
   ]
  },
  {
   "cell_type": "code",
   "execution_count": 71,
   "metadata": {},
   "outputs": [
    {
     "name": "stdout",
     "output_type": "stream",
     "text": [
      "count      24.000000\n",
      "mean     1791.458333\n",
      "std       900.811614\n",
      "min       259.000000\n",
      "25%      1280.500000\n",
      "50%      1835.000000\n",
      "75%      2386.500000\n",
      "max      3553.000000\n",
      "dtype: float64\n"
     ]
    },
    {
     "data": {
      "text/plain": [
       "<matplotlib.axes._subplots.AxesSubplot at 0x11bcc7ba8>"
      ]
     },
     "execution_count": 71,
     "metadata": {},
     "output_type": "execute_result"
    },
    {
     "data": {
      "image/png": "[encoded data removed]",
      "text/plain": [
       "<Figure size 432x288 with 1 Axes>"
      ]
     },
     "metadata": {},
     "output_type": "display_data"
    }
   ],
   "source": [
    "print(df1.groupby(\"Hour\").size().describe())\n",
    "sns.countplot(df1[\"Hour\"], color = \"grey\")"
   ]
  },
  {
   "cell_type": "code",
   "execution_count": 10,
   "metadata": {},
   "outputs": [],
   "source": [
    "# stops by location"
   ]
  },
  {
   "cell_type": "code",
   "execution_count": 68,
   "metadata": {
    "scrolled": true
   },
   "outputs": [
    {
     "name": "stdout",
     "output_type": "stream",
     "text": [
      "Location\n",
      "SELFRIDGE RD AT GRIDLEY RD                  441\n",
      "MACARTHUR BLVD AND OBERLIN AVE              436\n",
      "DIAMONDBACK DRIVE AT DECOVERLY DRIVE        364\n",
      "PLYERS MILL RD AT LEXINGTON ST              337\n",
      "UNIVERSITY AVE @ OXFORD RD                  325\n",
      "PLYERS MILL RD @ LEXINGTON ST               248\n",
      "UNIVERSITY/OXFORD                           232\n",
      "SHADY GROVE RD/PINEY MEETINGHOUSE RD        206\n",
      "BEL PRE RD / ARCTIC AVE                     195\n",
      "PARKLAND DR @ FAROE PL                      187\n",
      "POSTOAK RD @ ENID DR                        186\n",
      "SCENERY DR @ MIDDLEBROOK RD                 162\n",
      "MACARTHUR/OBERLIN                           144\n",
      "E JEFFERSON ST AT CONGRESSIONAL LN          142\n",
      "PLYERS MILL RD/ LEXINGTON ST                139\n",
      "SHAW AVE/ FALMOUTH DR                       138\n",
      "HALPINE RD AT CHAPMAN AVE                   138\n",
      "CHESHIRE DR @ GROSVENOR LN                  123\n",
      "CLARKSBURG ROAD @ GATEWAY CENTER DRIVE      117\n",
      "BELLS MILL RD. @ DEMOCRACY LN E/B           112\n",
      "OXFORD RD @ UNIVERSITY AVE                  111\n",
      "POSTOAK RD/ENID DR                          108\n",
      "WATERS LANDING DR @ CRYSTAL ROCK DR         105\n",
      "GLENDALE RD @ LELAND ST                     104\n",
      "NORFOLK AVE @ FAIRMONT AVE                  100\n",
      "GRANDVIEW AVE@ BLUERIDGE AVE                 96\n",
      "BROADBIRCH DR / PLUM ORCHARD DR              95\n",
      "MANNAKEE ST@LYNCH ST                         95\n",
      "BROADBIRCH DR AT PLUM ORCHARD DR             91\n",
      "BROADBIRCH / PLUM ORCHARD                    90\n",
      "                                           ... \n",
      "2ND AVE @ BALLARD ST                         71\n",
      "MATENY RD @ DAIRYMAID DRIVE                  71\n",
      "NEBEL ST AT MARINELLI RD                     71\n",
      "ARCOLA AVE/ GALT AVE                         70\n",
      "W DEER PARK RD @ SUMMIT HALL RD              68\n",
      "SHAKESPEARE BLVD @ NEELESVILLE CHURCH RD     68\n",
      "GOOD HOPE RD @ WINDMILL LN                   67\n",
      "OBSERVATION DR @ BOLAND FARM RD              67\n",
      "ARCOLA AVE/GALT AVE                          66\n",
      "BOILING BROOK PKWY AND ROCKING HORSE RD      64\n",
      "SHAKESPEARE BLVD @ NEELSVILLE CHURCH RD      63\n",
      "FLOWER AVE @ HOUSTON AVE                     63\n",
      "WELLER RD @ HATHAWAY DR                      63\n",
      "SLIGO CREEK PKWY @ SCHUYLER RD               62\n",
      "BROADBIRCH DRIVE AT PLUM ORCHARD DRIVE       62\n",
      "BROADBIRCH DR @ BOURNEFIELD WAY              62\n",
      "205 FAIRBANKS DR                             61\n",
      "CLARKSBURG RD @ GATEWAY CENTER DR            61\n",
      "FAIRVIEW RD/ FAIRVIEW CT                     61\n",
      "RAMP FROM CLARA BARTON PK @ MACARTHUR BV     60\n",
      "WATKINS MILL RD @ TRAVIS AVE                 60\n",
      "W DEER PARK RD @ DUVALL LA                   60\n",
      "GRANDVIEW AVE/ENNALLS AVE                    56\n",
      "GRANDVIEW AVE @ ENNALLS AVE                  55\n",
      "ARCTIC AVE @ BAUER DR                        55\n",
      "WARING STATION RD @ WISTERIA DR              53\n",
      "BROADBIRCH DRIVE / PLUM ORCHARD DRIVE        53\n",
      "ARCOLA AND GALT                              52\n",
      "SB GARDINER AVE @ DEXTER AVE                 52\n",
      "BEL PRE RD AT ARCTIC AVE                     52\n",
      "Length: 70, dtype: int64\n"
     ]
    },
    {
     "data": {
      "text/plain": [
       "15044"
      ]
     },
     "execution_count": 68,
     "metadata": {},
     "output_type": "execute_result"
    }
   ],
   "source": [
    "print(df1.groupby(\"Location\").size().sort_values(ascending=False).head(70))\n",
    "len(df1.groupby(\"Location\"))\n",
    "\n",
    "#  \" AT \" \" AND \" \" @ \" \"/\" \"\"\n",
    "#  \" RD\" \" BLVD\" \" AVE\" \" DRIVE\" \" DR\" \" ST\" \" PL\" \" LN\" \" PKWY\" "
   ]
  },
  {
   "cell_type": "code",
   "execution_count": null,
   "metadata": {},
   "outputs": [],
   "source": []
  },
  {
   "cell_type": "code",
   "execution_count": null,
   "metadata": {},
   "outputs": [],
   "source": []
  },
  {
   "cell_type": "code",
   "execution_count": null,
   "metadata": {},
   "outputs": [],
   "source": []
  },
  {
   "cell_type": "markdown",
   "metadata": {},
   "source": [
    "# rollout plan\n",
    "\n"
   ]
  },
  {
   "cell_type": "code",
   "execution_count": null,
   "metadata": {},
   "outputs": [],
   "source": []
  },
  {
   "cell_type": "code",
   "execution_count": null,
   "metadata": {},
   "outputs": [],
   "source": []
  },
  {
   "cell_type": "code",
   "execution_count": null,
   "metadata": {},
   "outputs": [],
   "source": []
  },
  {
   "cell_type": "code",
   "execution_count": null,
   "metadata": {},
   "outputs": [],
   "source": []
  },
  {
   "cell_type": "code",
   "execution_count": null,
   "metadata": {},
   "outputs": [],
   "source": []
  },
  {
   "cell_type": "code",
   "execution_count": null,
   "metadata": {},
   "outputs": [],
   "source": []
  },
  {
   "cell_type": "code",
   "execution_count": null,
   "metadata": {},
   "outputs": [],
   "source": []
  },
  {
   "cell_type": "code",
   "execution_count": null,
   "metadata": {},
   "outputs": [],
   "source": []
  },
  {
   "cell_type": "code",
   "execution_count": null,
   "metadata": {},
   "outputs": [],
   "source": []
  },
  {
   "cell_type": "code",
   "execution_count": null,
   "metadata": {},
   "outputs": [],
   "source": []
  },
  {
   "cell_type": "markdown",
   "metadata": {},
   "source": [
    "# Evaluation Plan\n",
    "\n"
   ]
  },
  {
   "cell_type": "code",
   "execution_count": null,
   "metadata": {},
   "outputs": [],
   "source": [
    "#pair wise t test\n",
    "\n",
    "\n"
   ]
  },
  {
   "cell_type": "code",
   "execution_count": null,
   "metadata": {},
   "outputs": [],
   "source": []
  }
 ],
 "metadata": {
  "kernelspec": {
   "display_name": "Python 3",
   "language": "python",
   "name": "python3"
  },
  "language_info": {
   "codemirror_mode": {
    "name": "ipython",
    "version": 3
   },
   "file_extension": ".py",
   "mimetype": "text/x-python",
   "name": "python",
   "nbconvert_exporter": "python",
   "pygments_lexer": "ipython3",
   "version": "3.6.5"
  }
 },
 "nbformat": 4,
 "nbformat_minor": 2
}
